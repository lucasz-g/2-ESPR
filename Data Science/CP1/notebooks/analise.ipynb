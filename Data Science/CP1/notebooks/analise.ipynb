{
 "cells": [
  {
   "cell_type": "code",
   "execution_count": 30,
   "metadata": {},
   "outputs": [],
   "source": [
    "import pandas as pd\n",
    "import plotly.express as px\n",
    "import numpy as np"
   ]
  },
  {
   "cell_type": "code",
   "execution_count": 3,
   "metadata": {},
   "outputs": [],
   "source": [
    "dados = pd.read_csv('./dados/sales_data.csv', sep=',')"
   ]
  },
  {
   "cell_type": "code",
   "execution_count": 4,
   "metadata": {},
   "outputs": [
    {
     "data": {
      "text/html": [
       "<div>\n",
       "<style scoped>\n",
       "    .dataframe tbody tr th:only-of-type {\n",
       "        vertical-align: middle;\n",
       "    }\n",
       "\n",
       "    .dataframe tbody tr th {\n",
       "        vertical-align: top;\n",
       "    }\n",
       "\n",
       "    .dataframe thead th {\n",
       "        text-align: right;\n",
       "    }\n",
       "</style>\n",
       "<table border=\"1\" class=\"dataframe\">\n",
       "  <thead>\n",
       "    <tr style=\"text-align: right;\">\n",
       "      <th></th>\n",
       "      <th>Product_ID</th>\n",
       "      <th>Sale_Date</th>\n",
       "      <th>Sales_Rep</th>\n",
       "      <th>Region</th>\n",
       "      <th>Sales_Amount</th>\n",
       "      <th>Quantity_Sold</th>\n",
       "      <th>Product_Category</th>\n",
       "      <th>Unit_Cost</th>\n",
       "      <th>Unit_Price</th>\n",
       "      <th>Customer_Type</th>\n",
       "      <th>Discount</th>\n",
       "      <th>Payment_Method</th>\n",
       "      <th>Sales_Channel</th>\n",
       "      <th>Region_and_Sales_Rep</th>\n",
       "    </tr>\n",
       "  </thead>\n",
       "  <tbody>\n",
       "    <tr>\n",
       "      <th>0</th>\n",
       "      <td>1052</td>\n",
       "      <td>2023-02-03</td>\n",
       "      <td>Bob</td>\n",
       "      <td>North</td>\n",
       "      <td>5053.97</td>\n",
       "      <td>18</td>\n",
       "      <td>Furniture</td>\n",
       "      <td>152.75</td>\n",
       "      <td>267.22</td>\n",
       "      <td>Returning</td>\n",
       "      <td>0.09</td>\n",
       "      <td>Cash</td>\n",
       "      <td>Online</td>\n",
       "      <td>North-Bob</td>\n",
       "    </tr>\n",
       "    <tr>\n",
       "      <th>1</th>\n",
       "      <td>1093</td>\n",
       "      <td>2023-04-21</td>\n",
       "      <td>Bob</td>\n",
       "      <td>West</td>\n",
       "      <td>4384.02</td>\n",
       "      <td>17</td>\n",
       "      <td>Furniture</td>\n",
       "      <td>3816.39</td>\n",
       "      <td>4209.44</td>\n",
       "      <td>Returning</td>\n",
       "      <td>0.11</td>\n",
       "      <td>Cash</td>\n",
       "      <td>Retail</td>\n",
       "      <td>West-Bob</td>\n",
       "    </tr>\n",
       "    <tr>\n",
       "      <th>2</th>\n",
       "      <td>1015</td>\n",
       "      <td>2023-09-21</td>\n",
       "      <td>David</td>\n",
       "      <td>South</td>\n",
       "      <td>4631.23</td>\n",
       "      <td>30</td>\n",
       "      <td>Food</td>\n",
       "      <td>261.56</td>\n",
       "      <td>371.40</td>\n",
       "      <td>Returning</td>\n",
       "      <td>0.20</td>\n",
       "      <td>Bank Transfer</td>\n",
       "      <td>Retail</td>\n",
       "      <td>South-David</td>\n",
       "    </tr>\n",
       "    <tr>\n",
       "      <th>3</th>\n",
       "      <td>1072</td>\n",
       "      <td>2023-08-24</td>\n",
       "      <td>Bob</td>\n",
       "      <td>South</td>\n",
       "      <td>2167.94</td>\n",
       "      <td>39</td>\n",
       "      <td>Clothing</td>\n",
       "      <td>4330.03</td>\n",
       "      <td>4467.75</td>\n",
       "      <td>New</td>\n",
       "      <td>0.02</td>\n",
       "      <td>Credit Card</td>\n",
       "      <td>Retail</td>\n",
       "      <td>South-Bob</td>\n",
       "    </tr>\n",
       "    <tr>\n",
       "      <th>4</th>\n",
       "      <td>1061</td>\n",
       "      <td>2023-03-24</td>\n",
       "      <td>Charlie</td>\n",
       "      <td>East</td>\n",
       "      <td>3750.20</td>\n",
       "      <td>13</td>\n",
       "      <td>Electronics</td>\n",
       "      <td>637.37</td>\n",
       "      <td>692.71</td>\n",
       "      <td>New</td>\n",
       "      <td>0.08</td>\n",
       "      <td>Credit Card</td>\n",
       "      <td>Online</td>\n",
       "      <td>East-Charlie</td>\n",
       "    </tr>\n",
       "  </tbody>\n",
       "</table>\n",
       "</div>"
      ],
      "text/plain": [
       "   Product_ID   Sale_Date Sales_Rep Region  Sales_Amount  Quantity_Sold  \\\n",
       "0        1052  2023-02-03       Bob  North       5053.97             18   \n",
       "1        1093  2023-04-21       Bob   West       4384.02             17   \n",
       "2        1015  2023-09-21     David  South       4631.23             30   \n",
       "3        1072  2023-08-24       Bob  South       2167.94             39   \n",
       "4        1061  2023-03-24   Charlie   East       3750.20             13   \n",
       "\n",
       "  Product_Category  Unit_Cost  Unit_Price Customer_Type  Discount  \\\n",
       "0        Furniture     152.75      267.22     Returning      0.09   \n",
       "1        Furniture    3816.39     4209.44     Returning      0.11   \n",
       "2             Food     261.56      371.40     Returning      0.20   \n",
       "3         Clothing    4330.03     4467.75           New      0.02   \n",
       "4      Electronics     637.37      692.71           New      0.08   \n",
       "\n",
       "  Payment_Method Sales_Channel Region_and_Sales_Rep  \n",
       "0           Cash        Online            North-Bob  \n",
       "1           Cash        Retail             West-Bob  \n",
       "2  Bank Transfer        Retail          South-David  \n",
       "3    Credit Card        Retail            South-Bob  \n",
       "4    Credit Card        Online         East-Charlie  "
      ]
     },
     "execution_count": 4,
     "metadata": {},
     "output_type": "execute_result"
    }
   ],
   "source": [
    "dados.head()"
   ]
  },
  {
   "cell_type": "code",
   "execution_count": 5,
   "metadata": {},
   "outputs": [
    {
     "name": "stdout",
     "output_type": "stream",
     "text": [
      "<class 'pandas.core.frame.DataFrame'>\n",
      "RangeIndex: 1000 entries, 0 to 999\n",
      "Data columns (total 14 columns):\n",
      " #   Column                Non-Null Count  Dtype  \n",
      "---  ------                --------------  -----  \n",
      " 0   Product_ID            1000 non-null   int64  \n",
      " 1   Sale_Date             1000 non-null   object \n",
      " 2   Sales_Rep             1000 non-null   object \n",
      " 3   Region                1000 non-null   object \n",
      " 4   Sales_Amount          1000 non-null   float64\n",
      " 5   Quantity_Sold         1000 non-null   int64  \n",
      " 6   Product_Category      1000 non-null   object \n",
      " 7   Unit_Cost             1000 non-null   float64\n",
      " 8   Unit_Price            1000 non-null   float64\n",
      " 9   Customer_Type         1000 non-null   object \n",
      " 10  Discount              1000 non-null   float64\n",
      " 11  Payment_Method        1000 non-null   object \n",
      " 12  Sales_Channel         1000 non-null   object \n",
      " 13  Region_and_Sales_Rep  1000 non-null   object \n",
      "dtypes: float64(4), int64(2), object(8)\n",
      "memory usage: 109.5+ KB\n"
     ]
    }
   ],
   "source": [
    "dados.info()"
   ]
  },
  {
   "cell_type": "markdown",
   "metadata": {},
   "source": [
    "**Product_ID**: Unique identifier for each product sold. Randomly generated for practice purposes.\n",
    "\n",
    "**Sale_Date**: The date when the sale occurred. Randomly selected from the year 2023.\n",
    "\n",
    "\n",
    "**Sales_Rep**: The sales representative responsible for the transaction. The dataset includes five random sales representatives (Alice, Bob, Charlie, David, Eve).\n",
    "\n",
    "**Region**: The region where the sale took place. The possible regions are North, South, East, and **West.\n",
    "\n",
    "**Sales_Amount**: The total sales amount for the transaction, including discounts if any. Values range from 100 to 10,000 (in currency units).\n",
    "\n",
    "**Quantity_Sold**: The number of units sold in that transaction, randomly generated between 1 and 50.\n",
    "\n",
    "**Product_Category**: The category of the product sold. Categories include Electronics, Furniture, Clothing, and Food.\n",
    "\n",
    "**Unit_Cost**: The cost per unit of the product sold, randomly generated between 50 and 5000 currency units.\n",
    "\n",
    "**Unit_Price:** The selling price per unit of the product, calculated to be higher than the unit cost.\n",
    "\n",
    "**Customer_Type**: Indicates whether the customer is a New or Returning customer.\n",
    "\n",
    "**Discount:** The discount applied to the sale, randomly chosen between 0% and 30%.\n",
    "\n",
    "**Payment_Method**: The method of payment used by the customer (e.g., Credit Card, Cash, Bank Transfer).\n",
    "\n",
    "**Sales_Channel**: The channel through which the sale occurred. Either Online or Retail.\n",
    "\n",
    "**Region_and_Sales_Rep**: A combined column that pairs the region and sales representative for easier tracking."
   ]
  },
  {
   "cell_type": "code",
   "execution_count": 6,
   "metadata": {},
   "outputs": [],
   "source": [
    "dados['Product_ID'] = dados['Product_ID'].astype(str)"
   ]
  },
  {
   "cell_type": "markdown",
   "metadata": {},
   "source": [
    "### Estatísticas"
   ]
  },
  {
   "cell_type": "markdown",
   "metadata": {},
   "source": [
    "Descritivas"
   ]
  },
  {
   "cell_type": "code",
   "execution_count": 7,
   "metadata": {},
   "outputs": [
    {
     "data": {
      "text/html": [
       "<div>\n",
       "<style scoped>\n",
       "    .dataframe tbody tr th:only-of-type {\n",
       "        vertical-align: middle;\n",
       "    }\n",
       "\n",
       "    .dataframe tbody tr th {\n",
       "        vertical-align: top;\n",
       "    }\n",
       "\n",
       "    .dataframe thead th {\n",
       "        text-align: right;\n",
       "    }\n",
       "</style>\n",
       "<table border=\"1\" class=\"dataframe\">\n",
       "  <thead>\n",
       "    <tr style=\"text-align: right;\">\n",
       "      <th></th>\n",
       "      <th>Sales_Amount</th>\n",
       "      <th>Quantity_Sold</th>\n",
       "      <th>Unit_Cost</th>\n",
       "      <th>Unit_Price</th>\n",
       "      <th>Discount</th>\n",
       "    </tr>\n",
       "  </thead>\n",
       "  <tbody>\n",
       "    <tr>\n",
       "      <th>count</th>\n",
       "      <td>1000.000000</td>\n",
       "      <td>1000.000000</td>\n",
       "      <td>1000.000000</td>\n",
       "      <td>1000.000000</td>\n",
       "      <td>1000.00000</td>\n",
       "    </tr>\n",
       "    <tr>\n",
       "      <th>mean</th>\n",
       "      <td>5019.265230</td>\n",
       "      <td>25.355000</td>\n",
       "      <td>2475.304550</td>\n",
       "      <td>2728.440120</td>\n",
       "      <td>0.15239</td>\n",
       "    </tr>\n",
       "    <tr>\n",
       "      <th>std</th>\n",
       "      <td>2846.790126</td>\n",
       "      <td>14.159006</td>\n",
       "      <td>1417.872546</td>\n",
       "      <td>1419.399839</td>\n",
       "      <td>0.08720</td>\n",
       "    </tr>\n",
       "    <tr>\n",
       "      <th>min</th>\n",
       "      <td>100.120000</td>\n",
       "      <td>1.000000</td>\n",
       "      <td>60.280000</td>\n",
       "      <td>167.120000</td>\n",
       "      <td>0.00000</td>\n",
       "    </tr>\n",
       "    <tr>\n",
       "      <th>25%</th>\n",
       "      <td>2550.297500</td>\n",
       "      <td>13.000000</td>\n",
       "      <td>1238.380000</td>\n",
       "      <td>1509.085000</td>\n",
       "      <td>0.08000</td>\n",
       "    </tr>\n",
       "    <tr>\n",
       "      <th>50%</th>\n",
       "      <td>5019.300000</td>\n",
       "      <td>25.000000</td>\n",
       "      <td>2467.235000</td>\n",
       "      <td>2696.400000</td>\n",
       "      <td>0.15000</td>\n",
       "    </tr>\n",
       "    <tr>\n",
       "      <th>75%</th>\n",
       "      <td>7507.445000</td>\n",
       "      <td>38.000000</td>\n",
       "      <td>3702.865000</td>\n",
       "      <td>3957.970000</td>\n",
       "      <td>0.23000</td>\n",
       "    </tr>\n",
       "    <tr>\n",
       "      <th>max</th>\n",
       "      <td>9989.040000</td>\n",
       "      <td>49.000000</td>\n",
       "      <td>4995.300000</td>\n",
       "      <td>5442.150000</td>\n",
       "      <td>0.30000</td>\n",
       "    </tr>\n",
       "  </tbody>\n",
       "</table>\n",
       "</div>"
      ],
      "text/plain": [
       "       Sales_Amount  Quantity_Sold    Unit_Cost   Unit_Price    Discount\n",
       "count   1000.000000    1000.000000  1000.000000  1000.000000  1000.00000\n",
       "mean    5019.265230      25.355000  2475.304550  2728.440120     0.15239\n",
       "std     2846.790126      14.159006  1417.872546  1419.399839     0.08720\n",
       "min      100.120000       1.000000    60.280000   167.120000     0.00000\n",
       "25%     2550.297500      13.000000  1238.380000  1509.085000     0.08000\n",
       "50%     5019.300000      25.000000  2467.235000  2696.400000     0.15000\n",
       "75%     7507.445000      38.000000  3702.865000  3957.970000     0.23000\n",
       "max     9989.040000      49.000000  4995.300000  5442.150000     0.30000"
      ]
     },
     "execution_count": 7,
     "metadata": {},
     "output_type": "execute_result"
    }
   ],
   "source": [
    "dados_numeric = dados.select_dtypes(include=[np.number])\n",
    "\n",
    "dados_numeric.describe()"
   ]
  },
  {
   "cell_type": "markdown",
   "metadata": {},
   "source": [
    "Correlação"
   ]
  },
  {
   "cell_type": "code",
   "execution_count": 8,
   "metadata": {},
   "outputs": [
    {
     "data": {
      "application/vnd.plotly.v1+json": {
       "config": {
        "plotlyServerURL": "https://plot.ly"
       },
       "data": [
        {
         "coloraxis": "coloraxis",
         "hovertemplate": "x: %{x}<br>y: %{y}<br>color: %{z}<extra></extra>",
         "name": "0",
         "type": "heatmap",
         "x": [
          "Sales_Amount",
          "Quantity_Sold",
          "Unit_Cost",
          "Unit_Price",
          "Discount"
         ],
         "xaxis": "x",
         "y": [
          "Sales_Amount",
          "Quantity_Sold",
          "Unit_Cost",
          "Unit_Price",
          "Discount"
         ],
         "yaxis": "y",
         "z": {
          "bdata": "AAAAAAAA8D9or+XqbEylv5Mj87oJAoQ/DB8t/eYwiD9IYaieV7WXP2iv5epsTKW/AAAAAAAA8D9ucv1hJperP5XJp13kVa0/salU/nT5f7+TI/O6CQKEP25y/WEml6s/AAAAAAAA8D+pRiPCftfvP0EQF7q4KpK/DB8t/eYwiD+Vyadd5FWtP6lGI8J+1+8/AAAAAAAA8D8m49fCe2+Rv0hhqJ5XtZc/salU/nT5f79BEBe6uCqSvybj18J7b5G/AAAAAAAA8D8=",
          "dtype": "f8",
          "shape": "5, 5"
         }
        }
       ],
       "layout": {
        "coloraxis": {
         "colorscale": [
          [
           0,
           "rgb(3, 35, 51)"
          ],
          [
           0.09090909090909091,
           "rgb(13, 48, 100)"
          ],
          [
           0.18181818181818182,
           "rgb(53, 50, 155)"
          ],
          [
           0.2727272727272727,
           "rgb(93, 62, 153)"
          ],
          [
           0.36363636363636365,
           "rgb(126, 77, 143)"
          ],
          [
           0.45454545454545453,
           "rgb(158, 89, 135)"
          ],
          [
           0.5454545454545454,
           "rgb(193, 100, 121)"
          ],
          [
           0.6363636363636364,
           "rgb(225, 113, 97)"
          ],
          [
           0.7272727272727273,
           "rgb(246, 139, 69)"
          ],
          [
           0.8181818181818182,
           "rgb(251, 173, 60)"
          ],
          [
           0.9090909090909091,
           "rgb(246, 211, 70)"
          ],
          [
           1,
           "rgb(231, 250, 90)"
          ]
         ]
        },
        "margin": {
         "t": 60
        },
        "template": {
         "data": {
          "bar": [
           {
            "error_x": {
             "color": "#2a3f5f"
            },
            "error_y": {
             "color": "#2a3f5f"
            },
            "marker": {
             "line": {
              "color": "#E5ECF6",
              "width": 0.5
             },
             "pattern": {
              "fillmode": "overlay",
              "size": 10,
              "solidity": 0.2
             }
            },
            "type": "bar"
           }
          ],
          "barpolar": [
           {
            "marker": {
             "line": {
              "color": "#E5ECF6",
              "width": 0.5
             },
             "pattern": {
              "fillmode": "overlay",
              "size": 10,
              "solidity": 0.2
             }
            },
            "type": "barpolar"
           }
          ],
          "carpet": [
           {
            "aaxis": {
             "endlinecolor": "#2a3f5f",
             "gridcolor": "white",
             "linecolor": "white",
             "minorgridcolor": "white",
             "startlinecolor": "#2a3f5f"
            },
            "baxis": {
             "endlinecolor": "#2a3f5f",
             "gridcolor": "white",
             "linecolor": "white",
             "minorgridcolor": "white",
             "startlinecolor": "#2a3f5f"
            },
            "type": "carpet"
           }
          ],
          "choropleth": [
           {
            "colorbar": {
             "outlinewidth": 0,
             "ticks": ""
            },
            "type": "choropleth"
           }
          ],
          "contour": [
           {
            "colorbar": {
             "outlinewidth": 0,
             "ticks": ""
            },
            "colorscale": [
             [
              0,
              "#0d0887"
             ],
             [
              0.1111111111111111,
              "#46039f"
             ],
             [
              0.2222222222222222,
              "#7201a8"
             ],
             [
              0.3333333333333333,
              "#9c179e"
             ],
             [
              0.4444444444444444,
              "#bd3786"
             ],
             [
              0.5555555555555556,
              "#d8576b"
             ],
             [
              0.6666666666666666,
              "#ed7953"
             ],
             [
              0.7777777777777778,
              "#fb9f3a"
             ],
             [
              0.8888888888888888,
              "#fdca26"
             ],
             [
              1,
              "#f0f921"
             ]
            ],
            "type": "contour"
           }
          ],
          "contourcarpet": [
           {
            "colorbar": {
             "outlinewidth": 0,
             "ticks": ""
            },
            "type": "contourcarpet"
           }
          ],
          "heatmap": [
           {
            "colorbar": {
             "outlinewidth": 0,
             "ticks": ""
            },
            "colorscale": [
             [
              0,
              "#0d0887"
             ],
             [
              0.1111111111111111,
              "#46039f"
             ],
             [
              0.2222222222222222,
              "#7201a8"
             ],
             [
              0.3333333333333333,
              "#9c179e"
             ],
             [
              0.4444444444444444,
              "#bd3786"
             ],
             [
              0.5555555555555556,
              "#d8576b"
             ],
             [
              0.6666666666666666,
              "#ed7953"
             ],
             [
              0.7777777777777778,
              "#fb9f3a"
             ],
             [
              0.8888888888888888,
              "#fdca26"
             ],
             [
              1,
              "#f0f921"
             ]
            ],
            "type": "heatmap"
           }
          ],
          "histogram": [
           {
            "marker": {
             "pattern": {
              "fillmode": "overlay",
              "size": 10,
              "solidity": 0.2
             }
            },
            "type": "histogram"
           }
          ],
          "histogram2d": [
           {
            "colorbar": {
             "outlinewidth": 0,
             "ticks": ""
            },
            "colorscale": [
             [
              0,
              "#0d0887"
             ],
             [
              0.1111111111111111,
              "#46039f"
             ],
             [
              0.2222222222222222,
              "#7201a8"
             ],
             [
              0.3333333333333333,
              "#9c179e"
             ],
             [
              0.4444444444444444,
              "#bd3786"
             ],
             [
              0.5555555555555556,
              "#d8576b"
             ],
             [
              0.6666666666666666,
              "#ed7953"
             ],
             [
              0.7777777777777778,
              "#fb9f3a"
             ],
             [
              0.8888888888888888,
              "#fdca26"
             ],
             [
              1,
              "#f0f921"
             ]
            ],
            "type": "histogram2d"
           }
          ],
          "histogram2dcontour": [
           {
            "colorbar": {
             "outlinewidth": 0,
             "ticks": ""
            },
            "colorscale": [
             [
              0,
              "#0d0887"
             ],
             [
              0.1111111111111111,
              "#46039f"
             ],
             [
              0.2222222222222222,
              "#7201a8"
             ],
             [
              0.3333333333333333,
              "#9c179e"
             ],
             [
              0.4444444444444444,
              "#bd3786"
             ],
             [
              0.5555555555555556,
              "#d8576b"
             ],
             [
              0.6666666666666666,
              "#ed7953"
             ],
             [
              0.7777777777777778,
              "#fb9f3a"
             ],
             [
              0.8888888888888888,
              "#fdca26"
             ],
             [
              1,
              "#f0f921"
             ]
            ],
            "type": "histogram2dcontour"
           }
          ],
          "mesh3d": [
           {
            "colorbar": {
             "outlinewidth": 0,
             "ticks": ""
            },
            "type": "mesh3d"
           }
          ],
          "parcoords": [
           {
            "line": {
             "colorbar": {
              "outlinewidth": 0,
              "ticks": ""
             }
            },
            "type": "parcoords"
           }
          ],
          "pie": [
           {
            "automargin": true,
            "type": "pie"
           }
          ],
          "scatter": [
           {
            "fillpattern": {
             "fillmode": "overlay",
             "size": 10,
             "solidity": 0.2
            },
            "type": "scatter"
           }
          ],
          "scatter3d": [
           {
            "line": {
             "colorbar": {
              "outlinewidth": 0,
              "ticks": ""
             }
            },
            "marker": {
             "colorbar": {
              "outlinewidth": 0,
              "ticks": ""
             }
            },
            "type": "scatter3d"
           }
          ],
          "scattercarpet": [
           {
            "marker": {
             "colorbar": {
              "outlinewidth": 0,
              "ticks": ""
             }
            },
            "type": "scattercarpet"
           }
          ],
          "scattergeo": [
           {
            "marker": {
             "colorbar": {
              "outlinewidth": 0,
              "ticks": ""
             }
            },
            "type": "scattergeo"
           }
          ],
          "scattergl": [
           {
            "marker": {
             "colorbar": {
              "outlinewidth": 0,
              "ticks": ""
             }
            },
            "type": "scattergl"
           }
          ],
          "scattermap": [
           {
            "marker": {
             "colorbar": {
              "outlinewidth": 0,
              "ticks": ""
             }
            },
            "type": "scattermap"
           }
          ],
          "scattermapbox": [
           {
            "marker": {
             "colorbar": {
              "outlinewidth": 0,
              "ticks": ""
             }
            },
            "type": "scattermapbox"
           }
          ],
          "scatterpolar": [
           {
            "marker": {
             "colorbar": {
              "outlinewidth": 0,
              "ticks": ""
             }
            },
            "type": "scatterpolar"
           }
          ],
          "scatterpolargl": [
           {
            "marker": {
             "colorbar": {
              "outlinewidth": 0,
              "ticks": ""
             }
            },
            "type": "scatterpolargl"
           }
          ],
          "scatterternary": [
           {
            "marker": {
             "colorbar": {
              "outlinewidth": 0,
              "ticks": ""
             }
            },
            "type": "scatterternary"
           }
          ],
          "surface": [
           {
            "colorbar": {
             "outlinewidth": 0,
             "ticks": ""
            },
            "colorscale": [
             [
              0,
              "#0d0887"
             ],
             [
              0.1111111111111111,
              "#46039f"
             ],
             [
              0.2222222222222222,
              "#7201a8"
             ],
             [
              0.3333333333333333,
              "#9c179e"
             ],
             [
              0.4444444444444444,
              "#bd3786"
             ],
             [
              0.5555555555555556,
              "#d8576b"
             ],
             [
              0.6666666666666666,
              "#ed7953"
             ],
             [
              0.7777777777777778,
              "#fb9f3a"
             ],
             [
              0.8888888888888888,
              "#fdca26"
             ],
             [
              1,
              "#f0f921"
             ]
            ],
            "type": "surface"
           }
          ],
          "table": [
           {
            "cells": {
             "fill": {
              "color": "#EBF0F8"
             },
             "line": {
              "color": "white"
             }
            },
            "header": {
             "fill": {
              "color": "#C8D4E3"
             },
             "line": {
              "color": "white"
             }
            },
            "type": "table"
           }
          ]
         },
         "layout": {
          "annotationdefaults": {
           "arrowcolor": "#2a3f5f",
           "arrowhead": 0,
           "arrowwidth": 1
          },
          "autotypenumbers": "strict",
          "coloraxis": {
           "colorbar": {
            "outlinewidth": 0,
            "ticks": ""
           }
          },
          "colorscale": {
           "diverging": [
            [
             0,
             "#8e0152"
            ],
            [
             0.1,
             "#c51b7d"
            ],
            [
             0.2,
             "#de77ae"
            ],
            [
             0.3,
             "#f1b6da"
            ],
            [
             0.4,
             "#fde0ef"
            ],
            [
             0.5,
             "#f7f7f7"
            ],
            [
             0.6,
             "#e6f5d0"
            ],
            [
             0.7,
             "#b8e186"
            ],
            [
             0.8,
             "#7fbc41"
            ],
            [
             0.9,
             "#4d9221"
            ],
            [
             1,
             "#276419"
            ]
           ],
           "sequential": [
            [
             0,
             "#0d0887"
            ],
            [
             0.1111111111111111,
             "#46039f"
            ],
            [
             0.2222222222222222,
             "#7201a8"
            ],
            [
             0.3333333333333333,
             "#9c179e"
            ],
            [
             0.4444444444444444,
             "#bd3786"
            ],
            [
             0.5555555555555556,
             "#d8576b"
            ],
            [
             0.6666666666666666,
             "#ed7953"
            ],
            [
             0.7777777777777778,
             "#fb9f3a"
            ],
            [
             0.8888888888888888,
             "#fdca26"
            ],
            [
             1,
             "#f0f921"
            ]
           ],
           "sequentialminus": [
            [
             0,
             "#0d0887"
            ],
            [
             0.1111111111111111,
             "#46039f"
            ],
            [
             0.2222222222222222,
             "#7201a8"
            ],
            [
             0.3333333333333333,
             "#9c179e"
            ],
            [
             0.4444444444444444,
             "#bd3786"
            ],
            [
             0.5555555555555556,
             "#d8576b"
            ],
            [
             0.6666666666666666,
             "#ed7953"
            ],
            [
             0.7777777777777778,
             "#fb9f3a"
            ],
            [
             0.8888888888888888,
             "#fdca26"
            ],
            [
             1,
             "#f0f921"
            ]
           ]
          },
          "colorway": [
           "#636efa",
           "#EF553B",
           "#00cc96",
           "#ab63fa",
           "#FFA15A",
           "#19d3f3",
           "#FF6692",
           "#B6E880",
           "#FF97FF",
           "#FECB52"
          ],
          "font": {
           "color": "#2a3f5f"
          },
          "geo": {
           "bgcolor": "white",
           "lakecolor": "white",
           "landcolor": "#E5ECF6",
           "showlakes": true,
           "showland": true,
           "subunitcolor": "white"
          },
          "hoverlabel": {
           "align": "left"
          },
          "hovermode": "closest",
          "mapbox": {
           "style": "light"
          },
          "paper_bgcolor": "white",
          "plot_bgcolor": "#E5ECF6",
          "polar": {
           "angularaxis": {
            "gridcolor": "white",
            "linecolor": "white",
            "ticks": ""
           },
           "bgcolor": "#E5ECF6",
           "radialaxis": {
            "gridcolor": "white",
            "linecolor": "white",
            "ticks": ""
           }
          },
          "scene": {
           "xaxis": {
            "backgroundcolor": "#E5ECF6",
            "gridcolor": "white",
            "gridwidth": 2,
            "linecolor": "white",
            "showbackground": true,
            "ticks": "",
            "zerolinecolor": "white"
           },
           "yaxis": {
            "backgroundcolor": "#E5ECF6",
            "gridcolor": "white",
            "gridwidth": 2,
            "linecolor": "white",
            "showbackground": true,
            "ticks": "",
            "zerolinecolor": "white"
           },
           "zaxis": {
            "backgroundcolor": "#E5ECF6",
            "gridcolor": "white",
            "gridwidth": 2,
            "linecolor": "white",
            "showbackground": true,
            "ticks": "",
            "zerolinecolor": "white"
           }
          },
          "shapedefaults": {
           "line": {
            "color": "#2a3f5f"
           }
          },
          "ternary": {
           "aaxis": {
            "gridcolor": "white",
            "linecolor": "white",
            "ticks": ""
           },
           "baxis": {
            "gridcolor": "white",
            "linecolor": "white",
            "ticks": ""
           },
           "bgcolor": "#E5ECF6",
           "caxis": {
            "gridcolor": "white",
            "linecolor": "white",
            "ticks": ""
           }
          },
          "title": {
           "x": 0.05
          },
          "xaxis": {
           "automargin": true,
           "gridcolor": "white",
           "linecolor": "white",
           "ticks": "",
           "title": {
            "standoff": 15
           },
           "zerolinecolor": "white",
           "zerolinewidth": 2
          },
          "yaxis": {
           "automargin": true,
           "gridcolor": "white",
           "linecolor": "white",
           "ticks": "",
           "title": {
            "standoff": 15
           },
           "zerolinecolor": "white",
           "zerolinewidth": 2
          }
         }
        },
        "xaxis": {
         "anchor": "y",
         "constrain": "domain",
         "domain": [
          0,
          1
         ],
         "scaleanchor": "y"
        },
        "yaxis": {
         "anchor": "x",
         "autorange": "reversed",
         "constrain": "domain",
         "domain": [
          0,
          1
         ]
        }
       }
      }
     },
     "metadata": {},
     "output_type": "display_data"
    }
   ],
   "source": [
    "px.imshow(dados_numeric.corr(), color_continuous_scale='Thermal')"
   ]
  },
  {
   "cell_type": "markdown",
   "metadata": {},
   "source": [
    "Dispersão"
   ]
  },
  {
   "cell_type": "code",
   "execution_count": 9,
   "metadata": {},
   "outputs": [
    {
     "data": {
      "application/vnd.plotly.v1+json": {
       "config": {
        "plotlyServerURL": "https://plot.ly"
       },
       "data": [
        {
         "hovertemplate": "Unit_Cost=%{x}<br>Unit_Price=%{y}<extra></extra>",
         "legendgroup": "",
         "marker": {
          "color": "#636efa",
          "symbol": "circle"
         },
         "mode": "markers",
         "name": "",
         "orientation": "v",
         "showlegend": false,
         "type": "scatter",
         "x": {
          "bdata": "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",
          "dtype": "f8"
         },
         "xaxis": "x",
         "y": {
          "bdata": "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",
          "dtype": "f8"
         },
         "yaxis": "y"
        }
       ],
       "layout": {
        "legend": {
         "tracegroupgap": 0
        },
        "margin": {
         "t": 60
        },
        "template": {
         "data": {
          "bar": [
           {
            "error_x": {
             "color": "#2a3f5f"
            },
            "error_y": {
             "color": "#2a3f5f"
            },
            "marker": {
             "line": {
              "color": "#E5ECF6",
              "width": 0.5
             },
             "pattern": {
              "fillmode": "overlay",
              "size": 10,
              "solidity": 0.2
             }
            },
            "type": "bar"
           }
          ],
          "barpolar": [
           {
            "marker": {
             "line": {
              "color": "#E5ECF6",
              "width": 0.5
             },
             "pattern": {
              "fillmode": "overlay",
              "size": 10,
              "solidity": 0.2
             }
            },
            "type": "barpolar"
           }
          ],
          "carpet": [
           {
            "aaxis": {
             "endlinecolor": "#2a3f5f",
             "gridcolor": "white",
             "linecolor": "white",
             "minorgridcolor": "white",
             "startlinecolor": "#2a3f5f"
            },
            "baxis": {
             "endlinecolor": "#2a3f5f",
             "gridcolor": "white",
             "linecolor": "white",
             "minorgridcolor": "white",
             "startlinecolor": "#2a3f5f"
            },
            "type": "carpet"
           }
          ],
          "choropleth": [
           {
            "colorbar": {
             "outlinewidth": 0,
             "ticks": ""
            },
            "type": "choropleth"
           }
          ],
          "contour": [
           {
            "colorbar": {
             "outlinewidth": 0,
             "ticks": ""
            },
            "colorscale": [
             [
              0,
              "#0d0887"
             ],
             [
              0.1111111111111111,
              "#46039f"
             ],
             [
              0.2222222222222222,
              "#7201a8"
             ],
             [
              0.3333333333333333,
              "#9c179e"
             ],
             [
              0.4444444444444444,
              "#bd3786"
             ],
             [
              0.5555555555555556,
              "#d8576b"
             ],
             [
              0.6666666666666666,
              "#ed7953"
             ],
             [
              0.7777777777777778,
              "#fb9f3a"
             ],
             [
              0.8888888888888888,
              "#fdca26"
             ],
             [
              1,
              "#f0f921"
             ]
            ],
            "type": "contour"
           }
          ],
          "contourcarpet": [
           {
            "colorbar": {
             "outlinewidth": 0,
             "ticks": ""
            },
            "type": "contourcarpet"
           }
          ],
          "heatmap": [
           {
            "colorbar": {
             "outlinewidth": 0,
             "ticks": ""
            },
            "colorscale": [
             [
              0,
              "#0d0887"
             ],
             [
              0.1111111111111111,
              "#46039f"
             ],
             [
              0.2222222222222222,
              "#7201a8"
             ],
             [
              0.3333333333333333,
              "#9c179e"
             ],
             [
              0.4444444444444444,
              "#bd3786"
             ],
             [
              0.5555555555555556,
              "#d8576b"
             ],
             [
              0.6666666666666666,
              "#ed7953"
             ],
             [
              0.7777777777777778,
              "#fb9f3a"
             ],
             [
              0.8888888888888888,
              "#fdca26"
             ],
             [
              1,
              "#f0f921"
             ]
            ],
            "type": "heatmap"
           }
          ],
          "histogram": [
           {
            "marker": {
             "pattern": {
              "fillmode": "overlay",
              "size": 10,
              "solidity": 0.2
             }
            },
            "type": "histogram"
           }
          ],
          "histogram2d": [
           {
            "colorbar": {
             "outlinewidth": 0,
             "ticks": ""
            },
            "colorscale": [
             [
              0,
              "#0d0887"
             ],
             [
              0.1111111111111111,
              "#46039f"
             ],
             [
              0.2222222222222222,
              "#7201a8"
             ],
             [
              0.3333333333333333,
              "#9c179e"
             ],
             [
              0.4444444444444444,
              "#bd3786"
             ],
             [
              0.5555555555555556,
              "#d8576b"
             ],
             [
              0.6666666666666666,
              "#ed7953"
             ],
             [
              0.7777777777777778,
              "#fb9f3a"
             ],
             [
              0.8888888888888888,
              "#fdca26"
             ],
             [
              1,
              "#f0f921"
             ]
            ],
            "type": "histogram2d"
           }
          ],
          "histogram2dcontour": [
           {
            "colorbar": {
             "outlinewidth": 0,
             "ticks": ""
            },
            "colorscale": [
             [
              0,
              "#0d0887"
             ],
             [
              0.1111111111111111,
              "#46039f"
             ],
             [
              0.2222222222222222,
              "#7201a8"
             ],
             [
              0.3333333333333333,
              "#9c179e"
             ],
             [
              0.4444444444444444,
              "#bd3786"
             ],
             [
              0.5555555555555556,
              "#d8576b"
             ],
             [
              0.6666666666666666,
              "#ed7953"
             ],
             [
              0.7777777777777778,
              "#fb9f3a"
             ],
             [
              0.8888888888888888,
              "#fdca26"
             ],
             [
              1,
              "#f0f921"
             ]
            ],
            "type": "histogram2dcontour"
           }
          ],
          "mesh3d": [
           {
            "colorbar": {
             "outlinewidth": 0,
             "ticks": ""
            },
            "type": "mesh3d"
           }
          ],
          "parcoords": [
           {
            "line": {
             "colorbar": {
              "outlinewidth": 0,
              "ticks": ""
             }
            },
            "type": "parcoords"
           }
          ],
          "pie": [
           {
            "automargin": true,
            "type": "pie"
           }
          ],
          "scatter": [
           {
            "fillpattern": {
             "fillmode": "overlay",
             "size": 10,
             "solidity": 0.2
            },
            "type": "scatter"
           }
          ],
          "scatter3d": [
           {
            "line": {
             "colorbar": {
              "outlinewidth": 0,
              "ticks": ""
             }
            },
            "marker": {
             "colorbar": {
              "outlinewidth": 0,
              "ticks": ""
             }
            },
            "type": "scatter3d"
           }
          ],
          "scattercarpet": [
           {
            "marker": {
             "colorbar": {
              "outlinewidth": 0,
              "ticks": ""
             }
            },
            "type": "scattercarpet"
           }
          ],
          "scattergeo": [
           {
            "marker": {
             "colorbar": {
              "outlinewidth": 0,
              "ticks": ""
             }
            },
            "type": "scattergeo"
           }
          ],
          "scattergl": [
           {
            "marker": {
             "colorbar": {
              "outlinewidth": 0,
              "ticks": ""
             }
            },
            "type": "scattergl"
           }
          ],
          "scattermap": [
           {
            "marker": {
             "colorbar": {
              "outlinewidth": 0,
              "ticks": ""
             }
            },
            "type": "scattermap"
           }
          ],
          "scattermapbox": [
           {
            "marker": {
             "colorbar": {
              "outlinewidth": 0,
              "ticks": ""
             }
            },
            "type": "scattermapbox"
           }
          ],
          "scatterpolar": [
           {
            "marker": {
             "colorbar": {
              "outlinewidth": 0,
              "ticks": ""
             }
            },
            "type": "scatterpolar"
           }
          ],
          "scatterpolargl": [
           {
            "marker": {
             "colorbar": {
              "outlinewidth": 0,
              "ticks": ""
             }
            },
            "type": "scatterpolargl"
           }
          ],
          "scatterternary": [
           {
            "marker": {
             "colorbar": {
              "outlinewidth": 0,
              "ticks": ""
             }
            },
            "type": "scatterternary"
           }
          ],
          "surface": [
           {
            "colorbar": {
             "outlinewidth": 0,
             "ticks": ""
            },
            "colorscale": [
             [
              0,
              "#0d0887"
             ],
             [
              0.1111111111111111,
              "#46039f"
             ],
             [
              0.2222222222222222,
              "#7201a8"
             ],
             [
              0.3333333333333333,
              "#9c179e"
             ],
             [
              0.4444444444444444,
              "#bd3786"
             ],
             [
              0.5555555555555556,
              "#d8576b"
             ],
             [
              0.6666666666666666,
              "#ed7953"
             ],
             [
              0.7777777777777778,
              "#fb9f3a"
             ],
             [
              0.8888888888888888,
              "#fdca26"
             ],
             [
              1,
              "#f0f921"
             ]
            ],
            "type": "surface"
           }
          ],
          "table": [
           {
            "cells": {
             "fill": {
              "color": "#EBF0F8"
             },
             "line": {
              "color": "white"
             }
            },
            "header": {
             "fill": {
              "color": "#C8D4E3"
             },
             "line": {
              "color": "white"
             }
            },
            "type": "table"
           }
          ]
         },
         "layout": {
          "annotationdefaults": {
           "arrowcolor": "#2a3f5f",
           "arrowhead": 0,
           "arrowwidth": 1
          },
          "autotypenumbers": "strict",
          "coloraxis": {
           "colorbar": {
            "outlinewidth": 0,
            "ticks": ""
           }
          },
          "colorscale": {
           "diverging": [
            [
             0,
             "#8e0152"
            ],
            [
             0.1,
             "#c51b7d"
            ],
            [
             0.2,
             "#de77ae"
            ],
            [
             0.3,
             "#f1b6da"
            ],
            [
             0.4,
             "#fde0ef"
            ],
            [
             0.5,
             "#f7f7f7"
            ],
            [
             0.6,
             "#e6f5d0"
            ],
            [
             0.7,
             "#b8e186"
            ],
            [
             0.8,
             "#7fbc41"
            ],
            [
             0.9,
             "#4d9221"
            ],
            [
             1,
             "#276419"
            ]
           ],
           "sequential": [
            [
             0,
             "#0d0887"
            ],
            [
             0.1111111111111111,
             "#46039f"
            ],
            [
             0.2222222222222222,
             "#7201a8"
            ],
            [
             0.3333333333333333,
             "#9c179e"
            ],
            [
             0.4444444444444444,
             "#bd3786"
            ],
            [
             0.5555555555555556,
             "#d8576b"
            ],
            [
             0.6666666666666666,
             "#ed7953"
            ],
            [
             0.7777777777777778,
             "#fb9f3a"
            ],
            [
             0.8888888888888888,
             "#fdca26"
            ],
            [
             1,
             "#f0f921"
            ]
           ],
           "sequentialminus": [
            [
             0,
             "#0d0887"
            ],
            [
             0.1111111111111111,
             "#46039f"
            ],
            [
             0.2222222222222222,
             "#7201a8"
            ],
            [
             0.3333333333333333,
             "#9c179e"
            ],
            [
             0.4444444444444444,
             "#bd3786"
            ],
            [
             0.5555555555555556,
             "#d8576b"
            ],
            [
             0.6666666666666666,
             "#ed7953"
            ],
            [
             0.7777777777777778,
             "#fb9f3a"
            ],
            [
             0.8888888888888888,
             "#fdca26"
            ],
            [
             1,
             "#f0f921"
            ]
           ]
          },
          "colorway": [
           "#636efa",
           "#EF553B",
           "#00cc96",
           "#ab63fa",
           "#FFA15A",
           "#19d3f3",
           "#FF6692",
           "#B6E880",
           "#FF97FF",
           "#FECB52"
          ],
          "font": {
           "color": "#2a3f5f"
          },
          "geo": {
           "bgcolor": "white",
           "lakecolor": "white",
           "landcolor": "#E5ECF6",
           "showlakes": true,
           "showland": true,
           "subunitcolor": "white"
          },
          "hoverlabel": {
           "align": "left"
          },
          "hovermode": "closest",
          "mapbox": {
           "style": "light"
          },
          "paper_bgcolor": "white",
          "plot_bgcolor": "#E5ECF6",
          "polar": {
           "angularaxis": {
            "gridcolor": "white",
            "linecolor": "white",
            "ticks": ""
           },
           "bgcolor": "#E5ECF6",
           "radialaxis": {
            "gridcolor": "white",
            "linecolor": "white",
            "ticks": ""
           }
          },
          "scene": {
           "xaxis": {
            "backgroundcolor": "#E5ECF6",
            "gridcolor": "white",
            "gridwidth": 2,
            "linecolor": "white",
            "showbackground": true,
            "ticks": "",
            "zerolinecolor": "white"
           },
           "yaxis": {
            "backgroundcolor": "#E5ECF6",
            "gridcolor": "white",
            "gridwidth": 2,
            "linecolor": "white",
            "showbackground": true,
            "ticks": "",
            "zerolinecolor": "white"
           },
           "zaxis": {
            "backgroundcolor": "#E5ECF6",
            "gridcolor": "white",
            "gridwidth": 2,
            "linecolor": "white",
            "showbackground": true,
            "ticks": "",
            "zerolinecolor": "white"
           }
          },
          "shapedefaults": {
           "line": {
            "color": "#2a3f5f"
           }
          },
          "ternary": {
           "aaxis": {
            "gridcolor": "white",
            "linecolor": "white",
            "ticks": ""
           },
           "baxis": {
            "gridcolor": "white",
            "linecolor": "white",
            "ticks": ""
           },
           "bgcolor": "#E5ECF6",
           "caxis": {
            "gridcolor": "white",
            "linecolor": "white",
            "ticks": ""
           }
          },
          "title": {
           "x": 0.05
          },
          "xaxis": {
           "automargin": true,
           "gridcolor": "white",
           "linecolor": "white",
           "ticks": "",
           "title": {
            "standoff": 15
           },
           "zerolinecolor": "white",
           "zerolinewidth": 2
          },
          "yaxis": {
           "automargin": true,
           "gridcolor": "white",
           "linecolor": "white",
           "ticks": "",
           "title": {
            "standoff": 15
           },
           "zerolinecolor": "white",
           "zerolinewidth": 2
          }
         }
        },
        "xaxis": {
         "anchor": "y",
         "domain": [
          0,
          1
         ],
         "title": {
          "text": "Unit_Cost"
         }
        },
        "yaxis": {
         "anchor": "x",
         "domain": [
          0,
          1
         ],
         "title": {
          "text": "Unit_Price"
         }
        }
       }
      }
     },
     "metadata": {},
     "output_type": "display_data"
    }
   ],
   "source": [
    "px.scatter(dados, x='Unit_Cost', y='Unit_Price')"
   ]
  },
  {
   "cell_type": "code",
   "execution_count": 10,
   "metadata": {},
   "outputs": [
    {
     "data": {
      "application/vnd.plotly.v1+json": {
       "config": {
        "plotlyServerURL": "https://plot.ly"
       },
       "data": [
        {
         "hovertemplate": "Sales_Amount=%{x}<br>Quantity_Sold=%{y}<extra></extra>",
         "legendgroup": "",
         "marker": {
          "color": "#636efa",
          "symbol": "circle"
         },
         "mode": "markers",
         "name": "",
         "orientation": "v",
         "showlegend": false,
         "type": "scatter",
         "x": {
          "bdata": "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",
          "dtype": "f8"
         },
         "xaxis": "x",
         "y": {
          "bdata": "EhEeJw0gHS4eEg0rFR4VMBEoEw8JCiwfFx4hCS8BLCMLIhAJIA8MIS0OCAgbDAErKCoLJysfESEgHRUVKBcGFiYlLQgpMSMLGDEVAigTJxwRBhMmHAImJQQWGjErJA0gESkkLhMjLigcASoSMCghDAgYEAQmLBsJLxAMHxgOLRkiAxgqCRoUKAoTAxgFAxsQMQ8jDCksGi8iFx8UDBcEFzAwARkCHgMVGRQxFhUhJg8uDy4ZFRgFBjErMCwvFwQbEhUcIxYoFwMoChkxCAsFLSUtJh0FCTACASgeCxwsDCcaDQgcHgknHxUvIh8ZDAEWKCUvAQEqKhUPERYmIy0QCC8RERoNESYRMA4tBiMuDi8IDxsNMR8jBgUWMRcZIhovBRoUBgYSBBEODg0HLA8TKy8sIxEjExQkIyAwLCgYEQcrASMgJA0GDiUwDy8EKBAcEAQtGhwgLQIfAwgYDysfCSctAggHLCcqECMeCiYSBR0nIistFwUeBi4sBB0XBiAqEg8oIAklChQGMAMqCysRIAQEESkTBSAWBiMWARQWMAsNKgMJDBcOIRIxKQkXChMvBS8XHhkcIi0wLxkKDiouHikZDiMwIgojCwsVFRYtBxECDCoSCxAxEiMaEAYsKy8vMCoMDQQnAhobGw8IBy8uKAwNKxERJBUIBRoQJBwdLwwlHhcQDgoHLSUdAw8kLy4TDSoVJRsdFBkGJAIWIBASBSQeLRMXIg0rHSQWLyQJJxMmBi8PFAkgBBIFFBcLJRYEHSwiDSoJKh8HBBMqHh8jFR8THyACCgICGBEgEBAuJx8rGAELFQQHGi8MHxEhCxwgAS8cKgcCKhgELBMaCygrCy0DDAMqGzECMRACHhQmHBkgCiooIQ0pKi8lEC0WFCsbKRAiIBoZAgwoCQwaCQogIjAUJwIBJBgbAh8OAh0PDCUcFCcYFQouDiUSGA4iDBYGJC0kFg4QJBkgIS0kFBImAxcgLRAFBBUoDicfDgYMEBEtFw4HLiAPLBEpLywiBS0bFygODyshHyMRHBMuFyAoDRQjBQkdBhkfFgItBRsZCAEULBcgCycvGAsdGhAjFC4DAS8BEQIdFAYIHTAhAyMFGywMFC0UCScEEyYbLSsNDRYcLy0WKxMICCoaMBoXKw0cCRQTMCcMDx8OCxoqGwsmIisTBi4mMSocASMoCC8HCycEGQwaJi4MKyUuGBANGQQLIDEHLgscKRctFxwrLxoZHRMhJA4OIx4cEQMQLh4dLQ8uGSYqLyYXGSoHFhESMSkKCgcwJhshASwiBBEEKxoEAQceCSMIGBMkKxsgDhIcHRAjLx8EJREnMA==",
          "dtype": "i1"
         },
         "yaxis": "y"
        }
       ],
       "layout": {
        "legend": {
         "tracegroupgap": 0
        },
        "margin": {
         "t": 60
        },
        "template": {
         "data": {
          "bar": [
           {
            "error_x": {
             "color": "#2a3f5f"
            },
            "error_y": {
             "color": "#2a3f5f"
            },
            "marker": {
             "line": {
              "color": "#E5ECF6",
              "width": 0.5
             },
             "pattern": {
              "fillmode": "overlay",
              "size": 10,
              "solidity": 0.2
             }
            },
            "type": "bar"
           }
          ],
          "barpolar": [
           {
            "marker": {
             "line": {
              "color": "#E5ECF6",
              "width": 0.5
             },
             "pattern": {
              "fillmode": "overlay",
              "size": 10,
              "solidity": 0.2
             }
            },
            "type": "barpolar"
           }
          ],
          "carpet": [
           {
            "aaxis": {
             "endlinecolor": "#2a3f5f",
             "gridcolor": "white",
             "linecolor": "white",
             "minorgridcolor": "white",
             "startlinecolor": "#2a3f5f"
            },
            "baxis": {
             "endlinecolor": "#2a3f5f",
             "gridcolor": "white",
             "linecolor": "white",
             "minorgridcolor": "white",
             "startlinecolor": "#2a3f5f"
            },
            "type": "carpet"
           }
          ],
          "choropleth": [
           {
            "colorbar": {
             "outlinewidth": 0,
             "ticks": ""
            },
            "type": "choropleth"
           }
          ],
          "contour": [
           {
            "colorbar": {
             "outlinewidth": 0,
             "ticks": ""
            },
            "colorscale": [
             [
              0,
              "#0d0887"
             ],
             [
              0.1111111111111111,
              "#46039f"
             ],
             [
              0.2222222222222222,
              "#7201a8"
             ],
             [
              0.3333333333333333,
              "#9c179e"
             ],
             [
              0.4444444444444444,
              "#bd3786"
             ],
             [
              0.5555555555555556,
              "#d8576b"
             ],
             [
              0.6666666666666666,
              "#ed7953"
             ],
             [
              0.7777777777777778,
              "#fb9f3a"
             ],
             [
              0.8888888888888888,
              "#fdca26"
             ],
             [
              1,
              "#f0f921"
             ]
            ],
            "type": "contour"
           }
          ],
          "contourcarpet": [
           {
            "colorbar": {
             "outlinewidth": 0,
             "ticks": ""
            },
            "type": "contourcarpet"
           }
          ],
          "heatmap": [
           {
            "colorbar": {
             "outlinewidth": 0,
             "ticks": ""
            },
            "colorscale": [
             [
              0,
              "#0d0887"
             ],
             [
              0.1111111111111111,
              "#46039f"
             ],
             [
              0.2222222222222222,
              "#7201a8"
             ],
             [
              0.3333333333333333,
              "#9c179e"
             ],
             [
              0.4444444444444444,
              "#bd3786"
             ],
             [
              0.5555555555555556,
              "#d8576b"
             ],
             [
              0.6666666666666666,
              "#ed7953"
             ],
             [
              0.7777777777777778,
              "#fb9f3a"
             ],
             [
              0.8888888888888888,
              "#fdca26"
             ],
             [
              1,
              "#f0f921"
             ]
            ],
            "type": "heatmap"
           }
          ],
          "histogram": [
           {
            "marker": {
             "pattern": {
              "fillmode": "overlay",
              "size": 10,
              "solidity": 0.2
             }
            },
            "type": "histogram"
           }
          ],
          "histogram2d": [
           {
            "colorbar": {
             "outlinewidth": 0,
             "ticks": ""
            },
            "colorscale": [
             [
              0,
              "#0d0887"
             ],
             [
              0.1111111111111111,
              "#46039f"
             ],
             [
              0.2222222222222222,
              "#7201a8"
             ],
             [
              0.3333333333333333,
              "#9c179e"
             ],
             [
              0.4444444444444444,
              "#bd3786"
             ],
             [
              0.5555555555555556,
              "#d8576b"
             ],
             [
              0.6666666666666666,
              "#ed7953"
             ],
             [
              0.7777777777777778,
              "#fb9f3a"
             ],
             [
              0.8888888888888888,
              "#fdca26"
             ],
             [
              1,
              "#f0f921"
             ]
            ],
            "type": "histogram2d"
           }
          ],
          "histogram2dcontour": [
           {
            "colorbar": {
             "outlinewidth": 0,
             "ticks": ""
            },
            "colorscale": [
             [
              0,
              "#0d0887"
             ],
             [
              0.1111111111111111,
              "#46039f"
             ],
             [
              0.2222222222222222,
              "#7201a8"
             ],
             [
              0.3333333333333333,
              "#9c179e"
             ],
             [
              0.4444444444444444,
              "#bd3786"
             ],
             [
              0.5555555555555556,
              "#d8576b"
             ],
             [
              0.6666666666666666,
              "#ed7953"
             ],
             [
              0.7777777777777778,
              "#fb9f3a"
             ],
             [
              0.8888888888888888,
              "#fdca26"
             ],
             [
              1,
              "#f0f921"
             ]
            ],
            "type": "histogram2dcontour"
           }
          ],
          "mesh3d": [
           {
            "colorbar": {
             "outlinewidth": 0,
             "ticks": ""
            },
            "type": "mesh3d"
           }
          ],
          "parcoords": [
           {
            "line": {
             "colorbar": {
              "outlinewidth": 0,
              "ticks": ""
             }
            },
            "type": "parcoords"
           }
          ],
          "pie": [
           {
            "automargin": true,
            "type": "pie"
           }
          ],
          "scatter": [
           {
            "fillpattern": {
             "fillmode": "overlay",
             "size": 10,
             "solidity": 0.2
            },
            "type": "scatter"
           }
          ],
          "scatter3d": [
           {
            "line": {
             "colorbar": {
              "outlinewidth": 0,
              "ticks": ""
             }
            },
            "marker": {
             "colorbar": {
              "outlinewidth": 0,
              "ticks": ""
             }
            },
            "type": "scatter3d"
           }
          ],
          "scattercarpet": [
           {
            "marker": {
             "colorbar": {
              "outlinewidth": 0,
              "ticks": ""
             }
            },
            "type": "scattercarpet"
           }
          ],
          "scattergeo": [
           {
            "marker": {
             "colorbar": {
              "outlinewidth": 0,
              "ticks": ""
             }
            },
            "type": "scattergeo"
           }
          ],
          "scattergl": [
           {
            "marker": {
             "colorbar": {
              "outlinewidth": 0,
              "ticks": ""
             }
            },
            "type": "scattergl"
           }
          ],
          "scattermap": [
           {
            "marker": {
             "colorbar": {
              "outlinewidth": 0,
              "ticks": ""
             }
            },
            "type": "scattermap"
           }
          ],
          "scattermapbox": [
           {
            "marker": {
             "colorbar": {
              "outlinewidth": 0,
              "ticks": ""
             }
            },
            "type": "scattermapbox"
           }
          ],
          "scatterpolar": [
           {
            "marker": {
             "colorbar": {
              "outlinewidth": 0,
              "ticks": ""
             }
            },
            "type": "scatterpolar"
           }
          ],
          "scatterpolargl": [
           {
            "marker": {
             "colorbar": {
              "outlinewidth": 0,
              "ticks": ""
             }
            },
            "type": "scatterpolargl"
           }
          ],
          "scatterternary": [
           {
            "marker": {
             "colorbar": {
              "outlinewidth": 0,
              "ticks": ""
             }
            },
            "type": "scatterternary"
           }
          ],
          "surface": [
           {
            "colorbar": {
             "outlinewidth": 0,
             "ticks": ""
            },
            "colorscale": [
             [
              0,
              "#0d0887"
             ],
             [
              0.1111111111111111,
              "#46039f"
             ],
             [
              0.2222222222222222,
              "#7201a8"
             ],
             [
              0.3333333333333333,
              "#9c179e"
             ],
             [
              0.4444444444444444,
              "#bd3786"
             ],
             [
              0.5555555555555556,
              "#d8576b"
             ],
             [
              0.6666666666666666,
              "#ed7953"
             ],
             [
              0.7777777777777778,
              "#fb9f3a"
             ],
             [
              0.8888888888888888,
              "#fdca26"
             ],
             [
              1,
              "#f0f921"
             ]
            ],
            "type": "surface"
           }
          ],
          "table": [
           {
            "cells": {
             "fill": {
              "color": "#EBF0F8"
             },
             "line": {
              "color": "white"
             }
            },
            "header": {
             "fill": {
              "color": "#C8D4E3"
             },
             "line": {
              "color": "white"
             }
            },
            "type": "table"
           }
          ]
         },
         "layout": {
          "annotationdefaults": {
           "arrowcolor": "#2a3f5f",
           "arrowhead": 0,
           "arrowwidth": 1
          },
          "autotypenumbers": "strict",
          "coloraxis": {
           "colorbar": {
            "outlinewidth": 0,
            "ticks": ""
           }
          },
          "colorscale": {
           "diverging": [
            [
             0,
             "#8e0152"
            ],
            [
             0.1,
             "#c51b7d"
            ],
            [
             0.2,
             "#de77ae"
            ],
            [
             0.3,
             "#f1b6da"
            ],
            [
             0.4,
             "#fde0ef"
            ],
            [
             0.5,
             "#f7f7f7"
            ],
            [
             0.6,
             "#e6f5d0"
            ],
            [
             0.7,
             "#b8e186"
            ],
            [
             0.8,
             "#7fbc41"
            ],
            [
             0.9,
             "#4d9221"
            ],
            [
             1,
             "#276419"
            ]
           ],
           "sequential": [
            [
             0,
             "#0d0887"
            ],
            [
             0.1111111111111111,
             "#46039f"
            ],
            [
             0.2222222222222222,
             "#7201a8"
            ],
            [
             0.3333333333333333,
             "#9c179e"
            ],
            [
             0.4444444444444444,
             "#bd3786"
            ],
            [
             0.5555555555555556,
             "#d8576b"
            ],
            [
             0.6666666666666666,
             "#ed7953"
            ],
            [
             0.7777777777777778,
             "#fb9f3a"
            ],
            [
             0.8888888888888888,
             "#fdca26"
            ],
            [
             1,
             "#f0f921"
            ]
           ],
           "sequentialminus": [
            [
             0,
             "#0d0887"
            ],
            [
             0.1111111111111111,
             "#46039f"
            ],
            [
             0.2222222222222222,
             "#7201a8"
            ],
            [
             0.3333333333333333,
             "#9c179e"
            ],
            [
             0.4444444444444444,
             "#bd3786"
            ],
            [
             0.5555555555555556,
             "#d8576b"
            ],
            [
             0.6666666666666666,
             "#ed7953"
            ],
            [
             0.7777777777777778,
             "#fb9f3a"
            ],
            [
             0.8888888888888888,
             "#fdca26"
            ],
            [
             1,
             "#f0f921"
            ]
           ]
          },
          "colorway": [
           "#636efa",
           "#EF553B",
           "#00cc96",
           "#ab63fa",
           "#FFA15A",
           "#19d3f3",
           "#FF6692",
           "#B6E880",
           "#FF97FF",
           "#FECB52"
          ],
          "font": {
           "color": "#2a3f5f"
          },
          "geo": {
           "bgcolor": "white",
           "lakecolor": "white",
           "landcolor": "#E5ECF6",
           "showlakes": true,
           "showland": true,
           "subunitcolor": "white"
          },
          "hoverlabel": {
           "align": "left"
          },
          "hovermode": "closest",
          "mapbox": {
           "style": "light"
          },
          "paper_bgcolor": "white",
          "plot_bgcolor": "#E5ECF6",
          "polar": {
           "angularaxis": {
            "gridcolor": "white",
            "linecolor": "white",
            "ticks": ""
           },
           "bgcolor": "#E5ECF6",
           "radialaxis": {
            "gridcolor": "white",
            "linecolor": "white",
            "ticks": ""
           }
          },
          "scene": {
           "xaxis": {
            "backgroundcolor": "#E5ECF6",
            "gridcolor": "white",
            "gridwidth": 2,
            "linecolor": "white",
            "showbackground": true,
            "ticks": "",
            "zerolinecolor": "white"
           },
           "yaxis": {
            "backgroundcolor": "#E5ECF6",
            "gridcolor": "white",
            "gridwidth": 2,
            "linecolor": "white",
            "showbackground": true,
            "ticks": "",
            "zerolinecolor": "white"
           },
           "zaxis": {
            "backgroundcolor": "#E5ECF6",
            "gridcolor": "white",
            "gridwidth": 2,
            "linecolor": "white",
            "showbackground": true,
            "ticks": "",
            "zerolinecolor": "white"
           }
          },
          "shapedefaults": {
           "line": {
            "color": "#2a3f5f"
           }
          },
          "ternary": {
           "aaxis": {
            "gridcolor": "white",
            "linecolor": "white",
            "ticks": ""
           },
           "baxis": {
            "gridcolor": "white",
            "linecolor": "white",
            "ticks": ""
           },
           "bgcolor": "#E5ECF6",
           "caxis": {
            "gridcolor": "white",
            "linecolor": "white",
            "ticks": ""
           }
          },
          "title": {
           "x": 0.05
          },
          "xaxis": {
           "automargin": true,
           "gridcolor": "white",
           "linecolor": "white",
           "ticks": "",
           "title": {
            "standoff": 15
           },
           "zerolinecolor": "white",
           "zerolinewidth": 2
          },
          "yaxis": {
           "automargin": true,
           "gridcolor": "white",
           "linecolor": "white",
           "ticks": "",
           "title": {
            "standoff": 15
           },
           "zerolinecolor": "white",
           "zerolinewidth": 2
          }
         }
        },
        "xaxis": {
         "anchor": "y",
         "domain": [
          0,
          1
         ],
         "title": {
          "text": "Sales_Amount"
         }
        },
        "yaxis": {
         "anchor": "x",
         "domain": [
          0,
          1
         ],
         "title": {
          "text": "Quantity_Sold"
         }
        }
       }
      }
     },
     "metadata": {},
     "output_type": "display_data"
    }
   ],
   "source": [
    "px.scatter(dados, x='Sales_Amount', y='Quantity_Sold')"
   ]
  },
  {
   "cell_type": "markdown",
   "metadata": {},
   "source": [
    "### Faturamento por região"
   ]
  },
  {
   "cell_type": "markdown",
   "metadata": {},
   "source": [
    "Total"
   ]
  },
  {
   "cell_type": "code",
   "execution_count": 11,
   "metadata": {},
   "outputs": [
    {
     "data": {
      "text/html": [
       "<div>\n",
       "<style scoped>\n",
       "    .dataframe tbody tr th:only-of-type {\n",
       "        vertical-align: middle;\n",
       "    }\n",
       "\n",
       "    .dataframe tbody tr th {\n",
       "        vertical-align: top;\n",
       "    }\n",
       "\n",
       "    .dataframe thead th {\n",
       "        text-align: right;\n",
       "    }\n",
       "</style>\n",
       "<table border=\"1\" class=\"dataframe\">\n",
       "  <thead>\n",
       "    <tr style=\"text-align: right;\">\n",
       "      <th></th>\n",
       "      <th>Region</th>\n",
       "      <th>Sales_Amount</th>\n",
       "    </tr>\n",
       "  </thead>\n",
       "  <tbody>\n",
       "    <tr>\n",
       "      <th>1</th>\n",
       "      <td>North</td>\n",
       "      <td>1369612.51</td>\n",
       "    </tr>\n",
       "    <tr>\n",
       "      <th>0</th>\n",
       "      <td>East</td>\n",
       "      <td>1259792.93</td>\n",
       "    </tr>\n",
       "    <tr>\n",
       "      <th>3</th>\n",
       "      <td>West</td>\n",
       "      <td>1235608.93</td>\n",
       "    </tr>\n",
       "    <tr>\n",
       "      <th>2</th>\n",
       "      <td>South</td>\n",
       "      <td>1154250.86</td>\n",
       "    </tr>\n",
       "  </tbody>\n",
       "</table>\n",
       "</div>"
      ],
      "text/plain": [
       "  Region  Sales_Amount\n",
       "1  North    1369612.51\n",
       "0   East    1259792.93\n",
       "3   West    1235608.93\n",
       "2  South    1154250.86"
      ]
     },
     "execution_count": 11,
     "metadata": {},
     "output_type": "execute_result"
    }
   ],
   "source": [
    "amount_per_region = dados.groupby('Region')[['Sales_Amount']].sum().reset_index()\n",
    "amount_per_region = amount_per_region.sort_values('Sales_Amount', ascending=False)\n",
    "amount_per_region"
   ]
  },
  {
   "cell_type": "markdown",
   "metadata": {},
   "source": [
    "Média"
   ]
  },
  {
   "cell_type": "code",
   "execution_count": 12,
   "metadata": {},
   "outputs": [
    {
     "data": {
      "text/html": [
       "<div>\n",
       "<style scoped>\n",
       "    .dataframe tbody tr th:only-of-type {\n",
       "        vertical-align: middle;\n",
       "    }\n",
       "\n",
       "    .dataframe tbody tr th {\n",
       "        vertical-align: top;\n",
       "    }\n",
       "\n",
       "    .dataframe thead th {\n",
       "        text-align: right;\n",
       "    }\n",
       "</style>\n",
       "<table border=\"1\" class=\"dataframe\">\n",
       "  <thead>\n",
       "    <tr style=\"text-align: right;\">\n",
       "      <th></th>\n",
       "      <th>Region</th>\n",
       "      <th>Sales_Amount</th>\n",
       "    </tr>\n",
       "  </thead>\n",
       "  <tbody>\n",
       "    <tr>\n",
       "      <th>1</th>\n",
       "      <td>North</td>\n",
       "      <td>5129.634869</td>\n",
       "    </tr>\n",
       "    <tr>\n",
       "      <th>2</th>\n",
       "      <td>South</td>\n",
       "      <td>5107.304690</td>\n",
       "    </tr>\n",
       "    <tr>\n",
       "      <th>3</th>\n",
       "      <td>West</td>\n",
       "      <td>5063.971025</td>\n",
       "    </tr>\n",
       "    <tr>\n",
       "      <th>0</th>\n",
       "      <td>East</td>\n",
       "      <td>4790.087186</td>\n",
       "    </tr>\n",
       "  </tbody>\n",
       "</table>\n",
       "</div>"
      ],
      "text/plain": [
       "  Region  Sales_Amount\n",
       "1  North   5129.634869\n",
       "2  South   5107.304690\n",
       "3   West   5063.971025\n",
       "0   East   4790.087186"
      ]
     },
     "execution_count": 12,
     "metadata": {},
     "output_type": "execute_result"
    }
   ],
   "source": [
    "mean_amount_per_region = dados.groupby('Region')[['Sales_Amount']].mean().reset_index()\n",
    "mean_amount_per_region = mean_amount_per_region.sort_values('Sales_Amount', ascending=False)\n",
    "mean_amount_per_region"
   ]
  },
  {
   "cell_type": "markdown",
   "metadata": {},
   "source": [
    "Visualização"
   ]
  },
  {
   "cell_type": "code",
   "execution_count": 13,
   "metadata": {},
   "outputs": [
    {
     "data": {
      "application/vnd.plotly.v1+json": {
       "config": {
        "plotlyServerURL": "https://plot.ly"
       },
       "data": [
        {
         "hovertemplate": "Region=%{x}<br>Sales_Amount=%{marker.color}<extra></extra>",
         "legendgroup": "",
         "marker": {
          "color": {
           "bdata": "KVyPggzmNEHhehTuEDkzQeF6FO6Y2jJBw/Uo3MqcMUE=",
           "dtype": "f8"
          },
          "coloraxis": "coloraxis",
          "pattern": {
           "shape": ""
          }
         },
         "name": "",
         "orientation": "v",
         "showlegend": false,
         "textposition": "auto",
         "type": "bar",
         "x": [
          "North",
          "East",
          "West",
          "South"
         ],
         "xaxis": "x",
         "y": {
          "bdata": "KVyPggzmNEHhehTuEDkzQeF6FO6Y2jJBw/Uo3MqcMUE=",
          "dtype": "f8"
         },
         "yaxis": "y"
        }
       ],
       "layout": {
        "barmode": "relative",
        "coloraxis": {
         "colorbar": {
          "title": {
           "text": "Sales_Amount"
          }
         },
         "colorscale": [
          [
           0,
           "rgb(253, 224, 197)"
          ],
          [
           0.16666666666666666,
           "rgb(250, 203, 166)"
          ],
          [
           0.3333333333333333,
           "rgb(248, 181, 139)"
          ],
          [
           0.5,
           "rgb(245, 158, 114)"
          ],
          [
           0.6666666666666666,
           "rgb(242, 133, 93)"
          ],
          [
           0.8333333333333334,
           "rgb(239, 106, 76)"
          ],
          [
           1,
           "rgb(235, 74, 64)"
          ]
         ]
        },
        "legend": {
         "tracegroupgap": 0
        },
        "template": {
         "data": {
          "bar": [
           {
            "error_x": {
             "color": "#2a3f5f"
            },
            "error_y": {
             "color": "#2a3f5f"
            },
            "marker": {
             "line": {
              "color": "#E5ECF6",
              "width": 0.5
             },
             "pattern": {
              "fillmode": "overlay",
              "size": 10,
              "solidity": 0.2
             }
            },
            "type": "bar"
           }
          ],
          "barpolar": [
           {
            "marker": {
             "line": {
              "color": "#E5ECF6",
              "width": 0.5
             },
             "pattern": {
              "fillmode": "overlay",
              "size": 10,
              "solidity": 0.2
             }
            },
            "type": "barpolar"
           }
          ],
          "carpet": [
           {
            "aaxis": {
             "endlinecolor": "#2a3f5f",
             "gridcolor": "white",
             "linecolor": "white",
             "minorgridcolor": "white",
             "startlinecolor": "#2a3f5f"
            },
            "baxis": {
             "endlinecolor": "#2a3f5f",
             "gridcolor": "white",
             "linecolor": "white",
             "minorgridcolor": "white",
             "startlinecolor": "#2a3f5f"
            },
            "type": "carpet"
           }
          ],
          "choropleth": [
           {
            "colorbar": {
             "outlinewidth": 0,
             "ticks": ""
            },
            "type": "choropleth"
           }
          ],
          "contour": [
           {
            "colorbar": {
             "outlinewidth": 0,
             "ticks": ""
            },
            "colorscale": [
             [
              0,
              "#0d0887"
             ],
             [
              0.1111111111111111,
              "#46039f"
             ],
             [
              0.2222222222222222,
              "#7201a8"
             ],
             [
              0.3333333333333333,
              "#9c179e"
             ],
             [
              0.4444444444444444,
              "#bd3786"
             ],
             [
              0.5555555555555556,
              "#d8576b"
             ],
             [
              0.6666666666666666,
              "#ed7953"
             ],
             [
              0.7777777777777778,
              "#fb9f3a"
             ],
             [
              0.8888888888888888,
              "#fdca26"
             ],
             [
              1,
              "#f0f921"
             ]
            ],
            "type": "contour"
           }
          ],
          "contourcarpet": [
           {
            "colorbar": {
             "outlinewidth": 0,
             "ticks": ""
            },
            "type": "contourcarpet"
           }
          ],
          "heatmap": [
           {
            "colorbar": {
             "outlinewidth": 0,
             "ticks": ""
            },
            "colorscale": [
             [
              0,
              "#0d0887"
             ],
             [
              0.1111111111111111,
              "#46039f"
             ],
             [
              0.2222222222222222,
              "#7201a8"
             ],
             [
              0.3333333333333333,
              "#9c179e"
             ],
             [
              0.4444444444444444,
              "#bd3786"
             ],
             [
              0.5555555555555556,
              "#d8576b"
             ],
             [
              0.6666666666666666,
              "#ed7953"
             ],
             [
              0.7777777777777778,
              "#fb9f3a"
             ],
             [
              0.8888888888888888,
              "#fdca26"
             ],
             [
              1,
              "#f0f921"
             ]
            ],
            "type": "heatmap"
           }
          ],
          "histogram": [
           {
            "marker": {
             "pattern": {
              "fillmode": "overlay",
              "size": 10,
              "solidity": 0.2
             }
            },
            "type": "histogram"
           }
          ],
          "histogram2d": [
           {
            "colorbar": {
             "outlinewidth": 0,
             "ticks": ""
            },
            "colorscale": [
             [
              0,
              "#0d0887"
             ],
             [
              0.1111111111111111,
              "#46039f"
             ],
             [
              0.2222222222222222,
              "#7201a8"
             ],
             [
              0.3333333333333333,
              "#9c179e"
             ],
             [
              0.4444444444444444,
              "#bd3786"
             ],
             [
              0.5555555555555556,
              "#d8576b"
             ],
             [
              0.6666666666666666,
              "#ed7953"
             ],
             [
              0.7777777777777778,
              "#fb9f3a"
             ],
             [
              0.8888888888888888,
              "#fdca26"
             ],
             [
              1,
              "#f0f921"
             ]
            ],
            "type": "histogram2d"
           }
          ],
          "histogram2dcontour": [
           {
            "colorbar": {
             "outlinewidth": 0,
             "ticks": ""
            },
            "colorscale": [
             [
              0,
              "#0d0887"
             ],
             [
              0.1111111111111111,
              "#46039f"
             ],
             [
              0.2222222222222222,
              "#7201a8"
             ],
             [
              0.3333333333333333,
              "#9c179e"
             ],
             [
              0.4444444444444444,
              "#bd3786"
             ],
             [
              0.5555555555555556,
              "#d8576b"
             ],
             [
              0.6666666666666666,
              "#ed7953"
             ],
             [
              0.7777777777777778,
              "#fb9f3a"
             ],
             [
              0.8888888888888888,
              "#fdca26"
             ],
             [
              1,
              "#f0f921"
             ]
            ],
            "type": "histogram2dcontour"
           }
          ],
          "mesh3d": [
           {
            "colorbar": {
             "outlinewidth": 0,
             "ticks": ""
            },
            "type": "mesh3d"
           }
          ],
          "parcoords": [
           {
            "line": {
             "colorbar": {
              "outlinewidth": 0,
              "ticks": ""
             }
            },
            "type": "parcoords"
           }
          ],
          "pie": [
           {
            "automargin": true,
            "type": "pie"
           }
          ],
          "scatter": [
           {
            "fillpattern": {
             "fillmode": "overlay",
             "size": 10,
             "solidity": 0.2
            },
            "type": "scatter"
           }
          ],
          "scatter3d": [
           {
            "line": {
             "colorbar": {
              "outlinewidth": 0,
              "ticks": ""
             }
            },
            "marker": {
             "colorbar": {
              "outlinewidth": 0,
              "ticks": ""
             }
            },
            "type": "scatter3d"
           }
          ],
          "scattercarpet": [
           {
            "marker": {
             "colorbar": {
              "outlinewidth": 0,
              "ticks": ""
             }
            },
            "type": "scattercarpet"
           }
          ],
          "scattergeo": [
           {
            "marker": {
             "colorbar": {
              "outlinewidth": 0,
              "ticks": ""
             }
            },
            "type": "scattergeo"
           }
          ],
          "scattergl": [
           {
            "marker": {
             "colorbar": {
              "outlinewidth": 0,
              "ticks": ""
             }
            },
            "type": "scattergl"
           }
          ],
          "scattermap": [
           {
            "marker": {
             "colorbar": {
              "outlinewidth": 0,
              "ticks": ""
             }
            },
            "type": "scattermap"
           }
          ],
          "scattermapbox": [
           {
            "marker": {
             "colorbar": {
              "outlinewidth": 0,
              "ticks": ""
             }
            },
            "type": "scattermapbox"
           }
          ],
          "scatterpolar": [
           {
            "marker": {
             "colorbar": {
              "outlinewidth": 0,
              "ticks": ""
             }
            },
            "type": "scatterpolar"
           }
          ],
          "scatterpolargl": [
           {
            "marker": {
             "colorbar": {
              "outlinewidth": 0,
              "ticks": ""
             }
            },
            "type": "scatterpolargl"
           }
          ],
          "scatterternary": [
           {
            "marker": {
             "colorbar": {
              "outlinewidth": 0,
              "ticks": ""
             }
            },
            "type": "scatterternary"
           }
          ],
          "surface": [
           {
            "colorbar": {
             "outlinewidth": 0,
             "ticks": ""
            },
            "colorscale": [
             [
              0,
              "#0d0887"
             ],
             [
              0.1111111111111111,
              "#46039f"
             ],
             [
              0.2222222222222222,
              "#7201a8"
             ],
             [
              0.3333333333333333,
              "#9c179e"
             ],
             [
              0.4444444444444444,
              "#bd3786"
             ],
             [
              0.5555555555555556,
              "#d8576b"
             ],
             [
              0.6666666666666666,
              "#ed7953"
             ],
             [
              0.7777777777777778,
              "#fb9f3a"
             ],
             [
              0.8888888888888888,
              "#fdca26"
             ],
             [
              1,
              "#f0f921"
             ]
            ],
            "type": "surface"
           }
          ],
          "table": [
           {
            "cells": {
             "fill": {
              "color": "#EBF0F8"
             },
             "line": {
              "color": "white"
             }
            },
            "header": {
             "fill": {
              "color": "#C8D4E3"
             },
             "line": {
              "color": "white"
             }
            },
            "type": "table"
           }
          ]
         },
         "layout": {
          "annotationdefaults": {
           "arrowcolor": "#2a3f5f",
           "arrowhead": 0,
           "arrowwidth": 1
          },
          "autotypenumbers": "strict",
          "coloraxis": {
           "colorbar": {
            "outlinewidth": 0,
            "ticks": ""
           }
          },
          "colorscale": {
           "diverging": [
            [
             0,
             "#8e0152"
            ],
            [
             0.1,
             "#c51b7d"
            ],
            [
             0.2,
             "#de77ae"
            ],
            [
             0.3,
             "#f1b6da"
            ],
            [
             0.4,
             "#fde0ef"
            ],
            [
             0.5,
             "#f7f7f7"
            ],
            [
             0.6,
             "#e6f5d0"
            ],
            [
             0.7,
             "#b8e186"
            ],
            [
             0.8,
             "#7fbc41"
            ],
            [
             0.9,
             "#4d9221"
            ],
            [
             1,
             "#276419"
            ]
           ],
           "sequential": [
            [
             0,
             "#0d0887"
            ],
            [
             0.1111111111111111,
             "#46039f"
            ],
            [
             0.2222222222222222,
             "#7201a8"
            ],
            [
             0.3333333333333333,
             "#9c179e"
            ],
            [
             0.4444444444444444,
             "#bd3786"
            ],
            [
             0.5555555555555556,
             "#d8576b"
            ],
            [
             0.6666666666666666,
             "#ed7953"
            ],
            [
             0.7777777777777778,
             "#fb9f3a"
            ],
            [
             0.8888888888888888,
             "#fdca26"
            ],
            [
             1,
             "#f0f921"
            ]
           ],
           "sequentialminus": [
            [
             0,
             "#0d0887"
            ],
            [
             0.1111111111111111,
             "#46039f"
            ],
            [
             0.2222222222222222,
             "#7201a8"
            ],
            [
             0.3333333333333333,
             "#9c179e"
            ],
            [
             0.4444444444444444,
             "#bd3786"
            ],
            [
             0.5555555555555556,
             "#d8576b"
            ],
            [
             0.6666666666666666,
             "#ed7953"
            ],
            [
             0.7777777777777778,
             "#fb9f3a"
            ],
            [
             0.8888888888888888,
             "#fdca26"
            ],
            [
             1,
             "#f0f921"
            ]
           ]
          },
          "colorway": [
           "#636efa",
           "#EF553B",
           "#00cc96",
           "#ab63fa",
           "#FFA15A",
           "#19d3f3",
           "#FF6692",
           "#B6E880",
           "#FF97FF",
           "#FECB52"
          ],
          "font": {
           "color": "#2a3f5f"
          },
          "geo": {
           "bgcolor": "white",
           "lakecolor": "white",
           "landcolor": "#E5ECF6",
           "showlakes": true,
           "showland": true,
           "subunitcolor": "white"
          },
          "hoverlabel": {
           "align": "left"
          },
          "hovermode": "closest",
          "mapbox": {
           "style": "light"
          },
          "paper_bgcolor": "white",
          "plot_bgcolor": "#E5ECF6",
          "polar": {
           "angularaxis": {
            "gridcolor": "white",
            "linecolor": "white",
            "ticks": ""
           },
           "bgcolor": "#E5ECF6",
           "radialaxis": {
            "gridcolor": "white",
            "linecolor": "white",
            "ticks": ""
           }
          },
          "scene": {
           "xaxis": {
            "backgroundcolor": "#E5ECF6",
            "gridcolor": "white",
            "gridwidth": 2,
            "linecolor": "white",
            "showbackground": true,
            "ticks": "",
            "zerolinecolor": "white"
           },
           "yaxis": {
            "backgroundcolor": "#E5ECF6",
            "gridcolor": "white",
            "gridwidth": 2,
            "linecolor": "white",
            "showbackground": true,
            "ticks": "",
            "zerolinecolor": "white"
           },
           "zaxis": {
            "backgroundcolor": "#E5ECF6",
            "gridcolor": "white",
            "gridwidth": 2,
            "linecolor": "white",
            "showbackground": true,
            "ticks": "",
            "zerolinecolor": "white"
           }
          },
          "shapedefaults": {
           "line": {
            "color": "#2a3f5f"
           }
          },
          "ternary": {
           "aaxis": {
            "gridcolor": "white",
            "linecolor": "white",
            "ticks": ""
           },
           "baxis": {
            "gridcolor": "white",
            "linecolor": "white",
            "ticks": ""
           },
           "bgcolor": "#E5ECF6",
           "caxis": {
            "gridcolor": "white",
            "linecolor": "white",
            "ticks": ""
           }
          },
          "title": {
           "x": 0.05
          },
          "xaxis": {
           "automargin": true,
           "gridcolor": "white",
           "linecolor": "white",
           "ticks": "",
           "title": {
            "standoff": 15
           },
           "zerolinecolor": "white",
           "zerolinewidth": 2
          },
          "yaxis": {
           "automargin": true,
           "gridcolor": "white",
           "linecolor": "white",
           "ticks": "",
           "title": {
            "standoff": 15
           },
           "zerolinecolor": "white",
           "zerolinewidth": 2
          }
         }
        },
        "title": {
         "text": "Total Amount per Region"
        },
        "xaxis": {
         "anchor": "y",
         "domain": [
          0,
          1
         ],
         "title": {
          "text": "Region"
         }
        },
        "yaxis": {
         "anchor": "x",
         "domain": [
          0,
          1
         ],
         "title": {
          "text": "Sales_Amount"
         }
        }
       }
      }
     },
     "metadata": {},
     "output_type": "display_data"
    }
   ],
   "source": [
    "px.bar(amount_per_region, x='Region', y='Sales_Amount', color='Sales_Amount', color_continuous_scale='peach', title='Total Amount per Region')"
   ]
  },
  {
   "cell_type": "code",
   "execution_count": 14,
   "metadata": {},
   "outputs": [
    {
     "data": {
      "application/vnd.plotly.v1+json": {
       "config": {
        "plotlyServerURL": "https://plot.ly"
       },
       "data": [
        {
         "hovertemplate": "Region=%{x}<br>Sales_Amount=%{marker.color}<extra></extra>",
         "legendgroup": "",
         "marker": {
          "color": {
           "bdata": "RObEhqIJtECtZS4ATvOzQF1KEZX4x7NAyZXXURa2skA=",
           "dtype": "f8"
          },
          "coloraxis": "coloraxis",
          "pattern": {
           "shape": ""
          }
         },
         "name": "",
         "orientation": "v",
         "showlegend": false,
         "textposition": "auto",
         "type": "bar",
         "x": [
          "North",
          "South",
          "West",
          "East"
         ],
         "xaxis": "x",
         "y": {
          "bdata": "RObEhqIJtECtZS4ATvOzQF1KEZX4x7NAyZXXURa2skA=",
          "dtype": "f8"
         },
         "yaxis": "y"
        }
       ],
       "layout": {
        "barmode": "relative",
        "coloraxis": {
         "colorbar": {
          "title": {
           "text": "Sales_Amount"
          }
         },
         "colorscale": [
          [
           0,
           "rgb(253, 224, 197)"
          ],
          [
           0.16666666666666666,
           "rgb(250, 203, 166)"
          ],
          [
           0.3333333333333333,
           "rgb(248, 181, 139)"
          ],
          [
           0.5,
           "rgb(245, 158, 114)"
          ],
          [
           0.6666666666666666,
           "rgb(242, 133, 93)"
          ],
          [
           0.8333333333333334,
           "rgb(239, 106, 76)"
          ],
          [
           1,
           "rgb(235, 74, 64)"
          ]
         ]
        },
        "legend": {
         "tracegroupgap": 0
        },
        "template": {
         "data": {
          "bar": [
           {
            "error_x": {
             "color": "#2a3f5f"
            },
            "error_y": {
             "color": "#2a3f5f"
            },
            "marker": {
             "line": {
              "color": "#E5ECF6",
              "width": 0.5
             },
             "pattern": {
              "fillmode": "overlay",
              "size": 10,
              "solidity": 0.2
             }
            },
            "type": "bar"
           }
          ],
          "barpolar": [
           {
            "marker": {
             "line": {
              "color": "#E5ECF6",
              "width": 0.5
             },
             "pattern": {
              "fillmode": "overlay",
              "size": 10,
              "solidity": 0.2
             }
            },
            "type": "barpolar"
           }
          ],
          "carpet": [
           {
            "aaxis": {
             "endlinecolor": "#2a3f5f",
             "gridcolor": "white",
             "linecolor": "white",
             "minorgridcolor": "white",
             "startlinecolor": "#2a3f5f"
            },
            "baxis": {
             "endlinecolor": "#2a3f5f",
             "gridcolor": "white",
             "linecolor": "white",
             "minorgridcolor": "white",
             "startlinecolor": "#2a3f5f"
            },
            "type": "carpet"
           }
          ],
          "choropleth": [
           {
            "colorbar": {
             "outlinewidth": 0,
             "ticks": ""
            },
            "type": "choropleth"
           }
          ],
          "contour": [
           {
            "colorbar": {
             "outlinewidth": 0,
             "ticks": ""
            },
            "colorscale": [
             [
              0,
              "#0d0887"
             ],
             [
              0.1111111111111111,
              "#46039f"
             ],
             [
              0.2222222222222222,
              "#7201a8"
             ],
             [
              0.3333333333333333,
              "#9c179e"
             ],
             [
              0.4444444444444444,
              "#bd3786"
             ],
             [
              0.5555555555555556,
              "#d8576b"
             ],
             [
              0.6666666666666666,
              "#ed7953"
             ],
             [
              0.7777777777777778,
              "#fb9f3a"
             ],
             [
              0.8888888888888888,
              "#fdca26"
             ],
             [
              1,
              "#f0f921"
             ]
            ],
            "type": "contour"
           }
          ],
          "contourcarpet": [
           {
            "colorbar": {
             "outlinewidth": 0,
             "ticks": ""
            },
            "type": "contourcarpet"
           }
          ],
          "heatmap": [
           {
            "colorbar": {
             "outlinewidth": 0,
             "ticks": ""
            },
            "colorscale": [
             [
              0,
              "#0d0887"
             ],
             [
              0.1111111111111111,
              "#46039f"
             ],
             [
              0.2222222222222222,
              "#7201a8"
             ],
             [
              0.3333333333333333,
              "#9c179e"
             ],
             [
              0.4444444444444444,
              "#bd3786"
             ],
             [
              0.5555555555555556,
              "#d8576b"
             ],
             [
              0.6666666666666666,
              "#ed7953"
             ],
             [
              0.7777777777777778,
              "#fb9f3a"
             ],
             [
              0.8888888888888888,
              "#fdca26"
             ],
             [
              1,
              "#f0f921"
             ]
            ],
            "type": "heatmap"
           }
          ],
          "histogram": [
           {
            "marker": {
             "pattern": {
              "fillmode": "overlay",
              "size": 10,
              "solidity": 0.2
             }
            },
            "type": "histogram"
           }
          ],
          "histogram2d": [
           {
            "colorbar": {
             "outlinewidth": 0,
             "ticks": ""
            },
            "colorscale": [
             [
              0,
              "#0d0887"
             ],
             [
              0.1111111111111111,
              "#46039f"
             ],
             [
              0.2222222222222222,
              "#7201a8"
             ],
             [
              0.3333333333333333,
              "#9c179e"
             ],
             [
              0.4444444444444444,
              "#bd3786"
             ],
             [
              0.5555555555555556,
              "#d8576b"
             ],
             [
              0.6666666666666666,
              "#ed7953"
             ],
             [
              0.7777777777777778,
              "#fb9f3a"
             ],
             [
              0.8888888888888888,
              "#fdca26"
             ],
             [
              1,
              "#f0f921"
             ]
            ],
            "type": "histogram2d"
           }
          ],
          "histogram2dcontour": [
           {
            "colorbar": {
             "outlinewidth": 0,
             "ticks": ""
            },
            "colorscale": [
             [
              0,
              "#0d0887"
             ],
             [
              0.1111111111111111,
              "#46039f"
             ],
             [
              0.2222222222222222,
              "#7201a8"
             ],
             [
              0.3333333333333333,
              "#9c179e"
             ],
             [
              0.4444444444444444,
              "#bd3786"
             ],
             [
              0.5555555555555556,
              "#d8576b"
             ],
             [
              0.6666666666666666,
              "#ed7953"
             ],
             [
              0.7777777777777778,
              "#fb9f3a"
             ],
             [
              0.8888888888888888,
              "#fdca26"
             ],
             [
              1,
              "#f0f921"
             ]
            ],
            "type": "histogram2dcontour"
           }
          ],
          "mesh3d": [
           {
            "colorbar": {
             "outlinewidth": 0,
             "ticks": ""
            },
            "type": "mesh3d"
           }
          ],
          "parcoords": [
           {
            "line": {
             "colorbar": {
              "outlinewidth": 0,
              "ticks": ""
             }
            },
            "type": "parcoords"
           }
          ],
          "pie": [
           {
            "automargin": true,
            "type": "pie"
           }
          ],
          "scatter": [
           {
            "fillpattern": {
             "fillmode": "overlay",
             "size": 10,
             "solidity": 0.2
            },
            "type": "scatter"
           }
          ],
          "scatter3d": [
           {
            "line": {
             "colorbar": {
              "outlinewidth": 0,
              "ticks": ""
             }
            },
            "marker": {
             "colorbar": {
              "outlinewidth": 0,
              "ticks": ""
             }
            },
            "type": "scatter3d"
           }
          ],
          "scattercarpet": [
           {
            "marker": {
             "colorbar": {
              "outlinewidth": 0,
              "ticks": ""
             }
            },
            "type": "scattercarpet"
           }
          ],
          "scattergeo": [
           {
            "marker": {
             "colorbar": {
              "outlinewidth": 0,
              "ticks": ""
             }
            },
            "type": "scattergeo"
           }
          ],
          "scattergl": [
           {
            "marker": {
             "colorbar": {
              "outlinewidth": 0,
              "ticks": ""
             }
            },
            "type": "scattergl"
           }
          ],
          "scattermap": [
           {
            "marker": {
             "colorbar": {
              "outlinewidth": 0,
              "ticks": ""
             }
            },
            "type": "scattermap"
           }
          ],
          "scattermapbox": [
           {
            "marker": {
             "colorbar": {
              "outlinewidth": 0,
              "ticks": ""
             }
            },
            "type": "scattermapbox"
           }
          ],
          "scatterpolar": [
           {
            "marker": {
             "colorbar": {
              "outlinewidth": 0,
              "ticks": ""
             }
            },
            "type": "scatterpolar"
           }
          ],
          "scatterpolargl": [
           {
            "marker": {
             "colorbar": {
              "outlinewidth": 0,
              "ticks": ""
             }
            },
            "type": "scatterpolargl"
           }
          ],
          "scatterternary": [
           {
            "marker": {
             "colorbar": {
              "outlinewidth": 0,
              "ticks": ""
             }
            },
            "type": "scatterternary"
           }
          ],
          "surface": [
           {
            "colorbar": {
             "outlinewidth": 0,
             "ticks": ""
            },
            "colorscale": [
             [
              0,
              "#0d0887"
             ],
             [
              0.1111111111111111,
              "#46039f"
             ],
             [
              0.2222222222222222,
              "#7201a8"
             ],
             [
              0.3333333333333333,
              "#9c179e"
             ],
             [
              0.4444444444444444,
              "#bd3786"
             ],
             [
              0.5555555555555556,
              "#d8576b"
             ],
             [
              0.6666666666666666,
              "#ed7953"
             ],
             [
              0.7777777777777778,
              "#fb9f3a"
             ],
             [
              0.8888888888888888,
              "#fdca26"
             ],
             [
              1,
              "#f0f921"
             ]
            ],
            "type": "surface"
           }
          ],
          "table": [
           {
            "cells": {
             "fill": {
              "color": "#EBF0F8"
             },
             "line": {
              "color": "white"
             }
            },
            "header": {
             "fill": {
              "color": "#C8D4E3"
             },
             "line": {
              "color": "white"
             }
            },
            "type": "table"
           }
          ]
         },
         "layout": {
          "annotationdefaults": {
           "arrowcolor": "#2a3f5f",
           "arrowhead": 0,
           "arrowwidth": 1
          },
          "autotypenumbers": "strict",
          "coloraxis": {
           "colorbar": {
            "outlinewidth": 0,
            "ticks": ""
           }
          },
          "colorscale": {
           "diverging": [
            [
             0,
             "#8e0152"
            ],
            [
             0.1,
             "#c51b7d"
            ],
            [
             0.2,
             "#de77ae"
            ],
            [
             0.3,
             "#f1b6da"
            ],
            [
             0.4,
             "#fde0ef"
            ],
            [
             0.5,
             "#f7f7f7"
            ],
            [
             0.6,
             "#e6f5d0"
            ],
            [
             0.7,
             "#b8e186"
            ],
            [
             0.8,
             "#7fbc41"
            ],
            [
             0.9,
             "#4d9221"
            ],
            [
             1,
             "#276419"
            ]
           ],
           "sequential": [
            [
             0,
             "#0d0887"
            ],
            [
             0.1111111111111111,
             "#46039f"
            ],
            [
             0.2222222222222222,
             "#7201a8"
            ],
            [
             0.3333333333333333,
             "#9c179e"
            ],
            [
             0.4444444444444444,
             "#bd3786"
            ],
            [
             0.5555555555555556,
             "#d8576b"
            ],
            [
             0.6666666666666666,
             "#ed7953"
            ],
            [
             0.7777777777777778,
             "#fb9f3a"
            ],
            [
             0.8888888888888888,
             "#fdca26"
            ],
            [
             1,
             "#f0f921"
            ]
           ],
           "sequentialminus": [
            [
             0,
             "#0d0887"
            ],
            [
             0.1111111111111111,
             "#46039f"
            ],
            [
             0.2222222222222222,
             "#7201a8"
            ],
            [
             0.3333333333333333,
             "#9c179e"
            ],
            [
             0.4444444444444444,
             "#bd3786"
            ],
            [
             0.5555555555555556,
             "#d8576b"
            ],
            [
             0.6666666666666666,
             "#ed7953"
            ],
            [
             0.7777777777777778,
             "#fb9f3a"
            ],
            [
             0.8888888888888888,
             "#fdca26"
            ],
            [
             1,
             "#f0f921"
            ]
           ]
          },
          "colorway": [
           "#636efa",
           "#EF553B",
           "#00cc96",
           "#ab63fa",
           "#FFA15A",
           "#19d3f3",
           "#FF6692",
           "#B6E880",
           "#FF97FF",
           "#FECB52"
          ],
          "font": {
           "color": "#2a3f5f"
          },
          "geo": {
           "bgcolor": "white",
           "lakecolor": "white",
           "landcolor": "#E5ECF6",
           "showlakes": true,
           "showland": true,
           "subunitcolor": "white"
          },
          "hoverlabel": {
           "align": "left"
          },
          "hovermode": "closest",
          "mapbox": {
           "style": "light"
          },
          "paper_bgcolor": "white",
          "plot_bgcolor": "#E5ECF6",
          "polar": {
           "angularaxis": {
            "gridcolor": "white",
            "linecolor": "white",
            "ticks": ""
           },
           "bgcolor": "#E5ECF6",
           "radialaxis": {
            "gridcolor": "white",
            "linecolor": "white",
            "ticks": ""
           }
          },
          "scene": {
           "xaxis": {
            "backgroundcolor": "#E5ECF6",
            "gridcolor": "white",
            "gridwidth": 2,
            "linecolor": "white",
            "showbackground": true,
            "ticks": "",
            "zerolinecolor": "white"
           },
           "yaxis": {
            "backgroundcolor": "#E5ECF6",
            "gridcolor": "white",
            "gridwidth": 2,
            "linecolor": "white",
            "showbackground": true,
            "ticks": "",
            "zerolinecolor": "white"
           },
           "zaxis": {
            "backgroundcolor": "#E5ECF6",
            "gridcolor": "white",
            "gridwidth": 2,
            "linecolor": "white",
            "showbackground": true,
            "ticks": "",
            "zerolinecolor": "white"
           }
          },
          "shapedefaults": {
           "line": {
            "color": "#2a3f5f"
           }
          },
          "ternary": {
           "aaxis": {
            "gridcolor": "white",
            "linecolor": "white",
            "ticks": ""
           },
           "baxis": {
            "gridcolor": "white",
            "linecolor": "white",
            "ticks": ""
           },
           "bgcolor": "#E5ECF6",
           "caxis": {
            "gridcolor": "white",
            "linecolor": "white",
            "ticks": ""
           }
          },
          "title": {
           "x": 0.05
          },
          "xaxis": {
           "automargin": true,
           "gridcolor": "white",
           "linecolor": "white",
           "ticks": "",
           "title": {
            "standoff": 15
           },
           "zerolinecolor": "white",
           "zerolinewidth": 2
          },
          "yaxis": {
           "automargin": true,
           "gridcolor": "white",
           "linecolor": "white",
           "ticks": "",
           "title": {
            "standoff": 15
           },
           "zerolinecolor": "white",
           "zerolinewidth": 2
          }
         }
        },
        "title": {
         "text": "Mean Amount per Region"
        },
        "xaxis": {
         "anchor": "y",
         "domain": [
          0,
          1
         ],
         "title": {
          "text": "Region"
         }
        },
        "yaxis": {
         "anchor": "x",
         "domain": [
          0,
          1
         ],
         "title": {
          "text": "Sales_Amount"
         }
        }
       }
      }
     },
     "metadata": {},
     "output_type": "display_data"
    }
   ],
   "source": [
    "px.bar(mean_amount_per_region, x='Region', y='Sales_Amount', color='Sales_Amount', color_continuous_scale='peach', title='Mean Amount per Region')"
   ]
  },
  {
   "cell_type": "markdown",
   "metadata": {},
   "source": [
    "### Categoria mais vendida"
   ]
  },
  {
   "cell_type": "code",
   "execution_count": 15,
   "metadata": {},
   "outputs": [
    {
     "data": {
      "text/plain": [
       "array(['Furniture', 'Food', 'Clothing', 'Electronics'], dtype=object)"
      ]
     },
     "execution_count": 15,
     "metadata": {},
     "output_type": "execute_result"
    }
   ],
   "source": [
    "dados['Product_Category'].unique()"
   ]
  },
  {
   "cell_type": "code",
   "execution_count": 16,
   "metadata": {},
   "outputs": [
    {
     "data": {
      "text/html": [
       "<div>\n",
       "<style scoped>\n",
       "    .dataframe tbody tr th:only-of-type {\n",
       "        vertical-align: middle;\n",
       "    }\n",
       "\n",
       "    .dataframe tbody tr th {\n",
       "        vertical-align: top;\n",
       "    }\n",
       "\n",
       "    .dataframe thead th {\n",
       "        text-align: right;\n",
       "    }\n",
       "</style>\n",
       "<table border=\"1\" class=\"dataframe\">\n",
       "  <thead>\n",
       "    <tr style=\"text-align: right;\">\n",
       "      <th></th>\n",
       "      <th>Product_Category</th>\n",
       "      <th>Quantity_Sold</th>\n",
       "    </tr>\n",
       "  </thead>\n",
       "  <tbody>\n",
       "    <tr>\n",
       "      <th>0</th>\n",
       "      <td>Clothing</td>\n",
       "      <td>6922</td>\n",
       "    </tr>\n",
       "    <tr>\n",
       "      <th>3</th>\n",
       "      <td>Furniture</td>\n",
       "      <td>6729</td>\n",
       "    </tr>\n",
       "    <tr>\n",
       "      <th>1</th>\n",
       "      <td>Electronics</td>\n",
       "      <td>6096</td>\n",
       "    </tr>\n",
       "    <tr>\n",
       "      <th>2</th>\n",
       "      <td>Food</td>\n",
       "      <td>5608</td>\n",
       "    </tr>\n",
       "  </tbody>\n",
       "</table>\n",
       "</div>"
      ],
      "text/plain": [
       "  Product_Category  Quantity_Sold\n",
       "0         Clothing           6922\n",
       "3        Furniture           6729\n",
       "1      Electronics           6096\n",
       "2             Food           5608"
      ]
     },
     "execution_count": 16,
     "metadata": {},
     "output_type": "execute_result"
    }
   ],
   "source": [
    "quantity_per_category = dados.groupby('Product_Category')[['Quantity_Sold']].sum().reset_index()\n",
    "quantity_per_category = quantity_per_category.sort_values('Quantity_Sold', ascending=False)\n",
    "quantity_per_category"
   ]
  },
  {
   "cell_type": "markdown",
   "metadata": {},
   "source": [
    "Visualização"
   ]
  },
  {
   "cell_type": "code",
   "execution_count": 17,
   "metadata": {},
   "outputs": [
    {
     "data": {
      "application/vnd.plotly.v1+json": {
       "config": {
        "plotlyServerURL": "https://plot.ly"
       },
       "data": [
        {
         "hovertemplate": "Product_Category=%{x}<br>Quantity_Sold=%{marker.color}<extra></extra>",
         "legendgroup": "",
         "marker": {
          "color": {
           "bdata": "ChtJGtAX6BU=",
           "dtype": "i2"
          },
          "coloraxis": "coloraxis",
          "pattern": {
           "shape": ""
          }
         },
         "name": "",
         "orientation": "v",
         "showlegend": false,
         "textposition": "auto",
         "type": "bar",
         "x": [
          "Clothing",
          "Furniture",
          "Electronics",
          "Food"
         ],
         "xaxis": "x",
         "y": {
          "bdata": "ChtJGtAX6BU=",
          "dtype": "i2"
         },
         "yaxis": "y"
        }
       ],
       "layout": {
        "barmode": "relative",
        "coloraxis": {
         "colorbar": {
          "title": {
           "text": "Quantity_Sold"
          }
         },
         "colorscale": [
          [
           0,
           "rgb(253, 224, 197)"
          ],
          [
           0.16666666666666666,
           "rgb(250, 203, 166)"
          ],
          [
           0.3333333333333333,
           "rgb(248, 181, 139)"
          ],
          [
           0.5,
           "rgb(245, 158, 114)"
          ],
          [
           0.6666666666666666,
           "rgb(242, 133, 93)"
          ],
          [
           0.8333333333333334,
           "rgb(239, 106, 76)"
          ],
          [
           1,
           "rgb(235, 74, 64)"
          ]
         ]
        },
        "legend": {
         "tracegroupgap": 0
        },
        "margin": {
         "t": 60
        },
        "template": {
         "data": {
          "bar": [
           {
            "error_x": {
             "color": "#2a3f5f"
            },
            "error_y": {
             "color": "#2a3f5f"
            },
            "marker": {
             "line": {
              "color": "#E5ECF6",
              "width": 0.5
             },
             "pattern": {
              "fillmode": "overlay",
              "size": 10,
              "solidity": 0.2
             }
            },
            "type": "bar"
           }
          ],
          "barpolar": [
           {
            "marker": {
             "line": {
              "color": "#E5ECF6",
              "width": 0.5
             },
             "pattern": {
              "fillmode": "overlay",
              "size": 10,
              "solidity": 0.2
             }
            },
            "type": "barpolar"
           }
          ],
          "carpet": [
           {
            "aaxis": {
             "endlinecolor": "#2a3f5f",
             "gridcolor": "white",
             "linecolor": "white",
             "minorgridcolor": "white",
             "startlinecolor": "#2a3f5f"
            },
            "baxis": {
             "endlinecolor": "#2a3f5f",
             "gridcolor": "white",
             "linecolor": "white",
             "minorgridcolor": "white",
             "startlinecolor": "#2a3f5f"
            },
            "type": "carpet"
           }
          ],
          "choropleth": [
           {
            "colorbar": {
             "outlinewidth": 0,
             "ticks": ""
            },
            "type": "choropleth"
           }
          ],
          "contour": [
           {
            "colorbar": {
             "outlinewidth": 0,
             "ticks": ""
            },
            "colorscale": [
             [
              0,
              "#0d0887"
             ],
             [
              0.1111111111111111,
              "#46039f"
             ],
             [
              0.2222222222222222,
              "#7201a8"
             ],
             [
              0.3333333333333333,
              "#9c179e"
             ],
             [
              0.4444444444444444,
              "#bd3786"
             ],
             [
              0.5555555555555556,
              "#d8576b"
             ],
             [
              0.6666666666666666,
              "#ed7953"
             ],
             [
              0.7777777777777778,
              "#fb9f3a"
             ],
             [
              0.8888888888888888,
              "#fdca26"
             ],
             [
              1,
              "#f0f921"
             ]
            ],
            "type": "contour"
           }
          ],
          "contourcarpet": [
           {
            "colorbar": {
             "outlinewidth": 0,
             "ticks": ""
            },
            "type": "contourcarpet"
           }
          ],
          "heatmap": [
           {
            "colorbar": {
             "outlinewidth": 0,
             "ticks": ""
            },
            "colorscale": [
             [
              0,
              "#0d0887"
             ],
             [
              0.1111111111111111,
              "#46039f"
             ],
             [
              0.2222222222222222,
              "#7201a8"
             ],
             [
              0.3333333333333333,
              "#9c179e"
             ],
             [
              0.4444444444444444,
              "#bd3786"
             ],
             [
              0.5555555555555556,
              "#d8576b"
             ],
             [
              0.6666666666666666,
              "#ed7953"
             ],
             [
              0.7777777777777778,
              "#fb9f3a"
             ],
             [
              0.8888888888888888,
              "#fdca26"
             ],
             [
              1,
              "#f0f921"
             ]
            ],
            "type": "heatmap"
           }
          ],
          "histogram": [
           {
            "marker": {
             "pattern": {
              "fillmode": "overlay",
              "size": 10,
              "solidity": 0.2
             }
            },
            "type": "histogram"
           }
          ],
          "histogram2d": [
           {
            "colorbar": {
             "outlinewidth": 0,
             "ticks": ""
            },
            "colorscale": [
             [
              0,
              "#0d0887"
             ],
             [
              0.1111111111111111,
              "#46039f"
             ],
             [
              0.2222222222222222,
              "#7201a8"
             ],
             [
              0.3333333333333333,
              "#9c179e"
             ],
             [
              0.4444444444444444,
              "#bd3786"
             ],
             [
              0.5555555555555556,
              "#d8576b"
             ],
             [
              0.6666666666666666,
              "#ed7953"
             ],
             [
              0.7777777777777778,
              "#fb9f3a"
             ],
             [
              0.8888888888888888,
              "#fdca26"
             ],
             [
              1,
              "#f0f921"
             ]
            ],
            "type": "histogram2d"
           }
          ],
          "histogram2dcontour": [
           {
            "colorbar": {
             "outlinewidth": 0,
             "ticks": ""
            },
            "colorscale": [
             [
              0,
              "#0d0887"
             ],
             [
              0.1111111111111111,
              "#46039f"
             ],
             [
              0.2222222222222222,
              "#7201a8"
             ],
             [
              0.3333333333333333,
              "#9c179e"
             ],
             [
              0.4444444444444444,
              "#bd3786"
             ],
             [
              0.5555555555555556,
              "#d8576b"
             ],
             [
              0.6666666666666666,
              "#ed7953"
             ],
             [
              0.7777777777777778,
              "#fb9f3a"
             ],
             [
              0.8888888888888888,
              "#fdca26"
             ],
             [
              1,
              "#f0f921"
             ]
            ],
            "type": "histogram2dcontour"
           }
          ],
          "mesh3d": [
           {
            "colorbar": {
             "outlinewidth": 0,
             "ticks": ""
            },
            "type": "mesh3d"
           }
          ],
          "parcoords": [
           {
            "line": {
             "colorbar": {
              "outlinewidth": 0,
              "ticks": ""
             }
            },
            "type": "parcoords"
           }
          ],
          "pie": [
           {
            "automargin": true,
            "type": "pie"
           }
          ],
          "scatter": [
           {
            "fillpattern": {
             "fillmode": "overlay",
             "size": 10,
             "solidity": 0.2
            },
            "type": "scatter"
           }
          ],
          "scatter3d": [
           {
            "line": {
             "colorbar": {
              "outlinewidth": 0,
              "ticks": ""
             }
            },
            "marker": {
             "colorbar": {
              "outlinewidth": 0,
              "ticks": ""
             }
            },
            "type": "scatter3d"
           }
          ],
          "scattercarpet": [
           {
            "marker": {
             "colorbar": {
              "outlinewidth": 0,
              "ticks": ""
             }
            },
            "type": "scattercarpet"
           }
          ],
          "scattergeo": [
           {
            "marker": {
             "colorbar": {
              "outlinewidth": 0,
              "ticks": ""
             }
            },
            "type": "scattergeo"
           }
          ],
          "scattergl": [
           {
            "marker": {
             "colorbar": {
              "outlinewidth": 0,
              "ticks": ""
             }
            },
            "type": "scattergl"
           }
          ],
          "scattermap": [
           {
            "marker": {
             "colorbar": {
              "outlinewidth": 0,
              "ticks": ""
             }
            },
            "type": "scattermap"
           }
          ],
          "scattermapbox": [
           {
            "marker": {
             "colorbar": {
              "outlinewidth": 0,
              "ticks": ""
             }
            },
            "type": "scattermapbox"
           }
          ],
          "scatterpolar": [
           {
            "marker": {
             "colorbar": {
              "outlinewidth": 0,
              "ticks": ""
             }
            },
            "type": "scatterpolar"
           }
          ],
          "scatterpolargl": [
           {
            "marker": {
             "colorbar": {
              "outlinewidth": 0,
              "ticks": ""
             }
            },
            "type": "scatterpolargl"
           }
          ],
          "scatterternary": [
           {
            "marker": {
             "colorbar": {
              "outlinewidth": 0,
              "ticks": ""
             }
            },
            "type": "scatterternary"
           }
          ],
          "surface": [
           {
            "colorbar": {
             "outlinewidth": 0,
             "ticks": ""
            },
            "colorscale": [
             [
              0,
              "#0d0887"
             ],
             [
              0.1111111111111111,
              "#46039f"
             ],
             [
              0.2222222222222222,
              "#7201a8"
             ],
             [
              0.3333333333333333,
              "#9c179e"
             ],
             [
              0.4444444444444444,
              "#bd3786"
             ],
             [
              0.5555555555555556,
              "#d8576b"
             ],
             [
              0.6666666666666666,
              "#ed7953"
             ],
             [
              0.7777777777777778,
              "#fb9f3a"
             ],
             [
              0.8888888888888888,
              "#fdca26"
             ],
             [
              1,
              "#f0f921"
             ]
            ],
            "type": "surface"
           }
          ],
          "table": [
           {
            "cells": {
             "fill": {
              "color": "#EBF0F8"
             },
             "line": {
              "color": "white"
             }
            },
            "header": {
             "fill": {
              "color": "#C8D4E3"
             },
             "line": {
              "color": "white"
             }
            },
            "type": "table"
           }
          ]
         },
         "layout": {
          "annotationdefaults": {
           "arrowcolor": "#2a3f5f",
           "arrowhead": 0,
           "arrowwidth": 1
          },
          "autotypenumbers": "strict",
          "coloraxis": {
           "colorbar": {
            "outlinewidth": 0,
            "ticks": ""
           }
          },
          "colorscale": {
           "diverging": [
            [
             0,
             "#8e0152"
            ],
            [
             0.1,
             "#c51b7d"
            ],
            [
             0.2,
             "#de77ae"
            ],
            [
             0.3,
             "#f1b6da"
            ],
            [
             0.4,
             "#fde0ef"
            ],
            [
             0.5,
             "#f7f7f7"
            ],
            [
             0.6,
             "#e6f5d0"
            ],
            [
             0.7,
             "#b8e186"
            ],
            [
             0.8,
             "#7fbc41"
            ],
            [
             0.9,
             "#4d9221"
            ],
            [
             1,
             "#276419"
            ]
           ],
           "sequential": [
            [
             0,
             "#0d0887"
            ],
            [
             0.1111111111111111,
             "#46039f"
            ],
            [
             0.2222222222222222,
             "#7201a8"
            ],
            [
             0.3333333333333333,
             "#9c179e"
            ],
            [
             0.4444444444444444,
             "#bd3786"
            ],
            [
             0.5555555555555556,
             "#d8576b"
            ],
            [
             0.6666666666666666,
             "#ed7953"
            ],
            [
             0.7777777777777778,
             "#fb9f3a"
            ],
            [
             0.8888888888888888,
             "#fdca26"
            ],
            [
             1,
             "#f0f921"
            ]
           ],
           "sequentialminus": [
            [
             0,
             "#0d0887"
            ],
            [
             0.1111111111111111,
             "#46039f"
            ],
            [
             0.2222222222222222,
             "#7201a8"
            ],
            [
             0.3333333333333333,
             "#9c179e"
            ],
            [
             0.4444444444444444,
             "#bd3786"
            ],
            [
             0.5555555555555556,
             "#d8576b"
            ],
            [
             0.6666666666666666,
             "#ed7953"
            ],
            [
             0.7777777777777778,
             "#fb9f3a"
            ],
            [
             0.8888888888888888,
             "#fdca26"
            ],
            [
             1,
             "#f0f921"
            ]
           ]
          },
          "colorway": [
           "#636efa",
           "#EF553B",
           "#00cc96",
           "#ab63fa",
           "#FFA15A",
           "#19d3f3",
           "#FF6692",
           "#B6E880",
           "#FF97FF",
           "#FECB52"
          ],
          "font": {
           "color": "#2a3f5f"
          },
          "geo": {
           "bgcolor": "white",
           "lakecolor": "white",
           "landcolor": "#E5ECF6",
           "showlakes": true,
           "showland": true,
           "subunitcolor": "white"
          },
          "hoverlabel": {
           "align": "left"
          },
          "hovermode": "closest",
          "mapbox": {
           "style": "light"
          },
          "paper_bgcolor": "white",
          "plot_bgcolor": "#E5ECF6",
          "polar": {
           "angularaxis": {
            "gridcolor": "white",
            "linecolor": "white",
            "ticks": ""
           },
           "bgcolor": "#E5ECF6",
           "radialaxis": {
            "gridcolor": "white",
            "linecolor": "white",
            "ticks": ""
           }
          },
          "scene": {
           "xaxis": {
            "backgroundcolor": "#E5ECF6",
            "gridcolor": "white",
            "gridwidth": 2,
            "linecolor": "white",
            "showbackground": true,
            "ticks": "",
            "zerolinecolor": "white"
           },
           "yaxis": {
            "backgroundcolor": "#E5ECF6",
            "gridcolor": "white",
            "gridwidth": 2,
            "linecolor": "white",
            "showbackground": true,
            "ticks": "",
            "zerolinecolor": "white"
           },
           "zaxis": {
            "backgroundcolor": "#E5ECF6",
            "gridcolor": "white",
            "gridwidth": 2,
            "linecolor": "white",
            "showbackground": true,
            "ticks": "",
            "zerolinecolor": "white"
           }
          },
          "shapedefaults": {
           "line": {
            "color": "#2a3f5f"
           }
          },
          "ternary": {
           "aaxis": {
            "gridcolor": "white",
            "linecolor": "white",
            "ticks": ""
           },
           "baxis": {
            "gridcolor": "white",
            "linecolor": "white",
            "ticks": ""
           },
           "bgcolor": "#E5ECF6",
           "caxis": {
            "gridcolor": "white",
            "linecolor": "white",
            "ticks": ""
           }
          },
          "title": {
           "x": 0.05
          },
          "xaxis": {
           "automargin": true,
           "gridcolor": "white",
           "linecolor": "white",
           "ticks": "",
           "title": {
            "standoff": 15
           },
           "zerolinecolor": "white",
           "zerolinewidth": 2
          },
          "yaxis": {
           "automargin": true,
           "gridcolor": "white",
           "linecolor": "white",
           "ticks": "",
           "title": {
            "standoff": 15
           },
           "zerolinecolor": "white",
           "zerolinewidth": 2
          }
         }
        },
        "xaxis": {
         "anchor": "y",
         "domain": [
          0,
          1
         ],
         "title": {
          "text": "Product_Category"
         }
        },
        "yaxis": {
         "anchor": "x",
         "domain": [
          0,
          1
         ],
         "title": {
          "text": "Quantity_Sold"
         }
        }
       }
      }
     },
     "metadata": {},
     "output_type": "display_data"
    }
   ],
   "source": [
    "px.bar(quantity_per_category, x='Product_Category', y='Quantity_Sold', color='Quantity_Sold', color_continuous_scale='peach')"
   ]
  },
  {
   "cell_type": "markdown",
   "metadata": {},
   "source": [
    "### Sazonalidade de `quantity_sold`"
   ]
  },
  {
   "cell_type": "code",
   "execution_count": 18,
   "metadata": {},
   "outputs": [
    {
     "data": {
      "text/html": [
       "<div>\n",
       "<style scoped>\n",
       "    .dataframe tbody tr th:only-of-type {\n",
       "        vertical-align: middle;\n",
       "    }\n",
       "\n",
       "    .dataframe tbody tr th {\n",
       "        vertical-align: top;\n",
       "    }\n",
       "\n",
       "    .dataframe thead th {\n",
       "        text-align: right;\n",
       "    }\n",
       "</style>\n",
       "<table border=\"1\" class=\"dataframe\">\n",
       "  <thead>\n",
       "    <tr style=\"text-align: right;\">\n",
       "      <th></th>\n",
       "      <th>Sale_Date</th>\n",
       "      <th>Quantity_Sold</th>\n",
       "    </tr>\n",
       "  </thead>\n",
       "  <tbody>\n",
       "    <tr>\n",
       "      <th>268</th>\n",
       "      <td>2023-10-15</td>\n",
       "      <td>251</td>\n",
       "    </tr>\n",
       "    <tr>\n",
       "      <th>11</th>\n",
       "      <td>2023-01-12</td>\n",
       "      <td>225</td>\n",
       "    </tr>\n",
       "    <tr>\n",
       "      <th>272</th>\n",
       "      <td>2023-10-20</td>\n",
       "      <td>218</td>\n",
       "    </tr>\n",
       "    <tr>\n",
       "      <th>269</th>\n",
       "      <td>2023-10-16</td>\n",
       "      <td>212</td>\n",
       "    </tr>\n",
       "    <tr>\n",
       "      <th>36</th>\n",
       "      <td>2023-02-08</td>\n",
       "      <td>202</td>\n",
       "    </tr>\n",
       "    <tr>\n",
       "      <th>...</th>\n",
       "      <td>...</td>\n",
       "      <td>...</td>\n",
       "    </tr>\n",
       "    <tr>\n",
       "      <th>100</th>\n",
       "      <td>2023-04-19</td>\n",
       "      <td>5</td>\n",
       "    </tr>\n",
       "    <tr>\n",
       "      <th>91</th>\n",
       "      <td>2023-04-09</td>\n",
       "      <td>4</td>\n",
       "    </tr>\n",
       "    <tr>\n",
       "      <th>20</th>\n",
       "      <td>2023-01-21</td>\n",
       "      <td>3</td>\n",
       "    </tr>\n",
       "    <tr>\n",
       "      <th>134</th>\n",
       "      <td>2023-05-26</td>\n",
       "      <td>3</td>\n",
       "    </tr>\n",
       "    <tr>\n",
       "      <th>98</th>\n",
       "      <td>2023-04-17</td>\n",
       "      <td>2</td>\n",
       "    </tr>\n",
       "  </tbody>\n",
       "</table>\n",
       "<p>340 rows × 2 columns</p>\n",
       "</div>"
      ],
      "text/plain": [
       "      Sale_Date  Quantity_Sold\n",
       "268  2023-10-15            251\n",
       "11   2023-01-12            225\n",
       "272  2023-10-20            218\n",
       "269  2023-10-16            212\n",
       "36   2023-02-08            202\n",
       "..          ...            ...\n",
       "100  2023-04-19              5\n",
       "91   2023-04-09              4\n",
       "20   2023-01-21              3\n",
       "134  2023-05-26              3\n",
       "98   2023-04-17              2\n",
       "\n",
       "[340 rows x 2 columns]"
      ]
     },
     "execution_count": 18,
     "metadata": {},
     "output_type": "execute_result"
    }
   ],
   "source": [
    "data_grouped = dados.groupby('Sale_Date')['Quantity_Sold'].sum().reset_index()\n",
    "data_grouped.sort_values('Quantity_Sold', ascending=False)"
   ]
  },
  {
   "cell_type": "code",
   "execution_count": 19,
   "metadata": {},
   "outputs": [
    {
     "data": {
      "application/vnd.plotly.v1+json": {
       "config": {
        "plotlyServerURL": "https://plot.ly"
       },
       "data": [
        {
         "hovertemplate": "Sale_Date=%{x}<br>Quantity_Sold=%{y}<extra></extra>",
         "legendgroup": "",
         "line": {
          "color": "#636efa",
          "dash": "solid"
         },
         "marker": {
          "symbol": "circle"
         },
         "mode": "lines",
         "name": "",
         "orientation": "v",
         "showlegend": false,
         "type": "scatter",
         "x": [
          "2023-01-01",
          "2023-01-02",
          "2023-01-03",
          "2023-01-04",
          "2023-01-05",
          "2023-01-06",
          "2023-01-07",
          "2023-01-08",
          "2023-01-09",
          "2023-01-10",
          "2023-01-11",
          "2023-01-12",
          "2023-01-13",
          "2023-01-14",
          "2023-01-15",
          "2023-01-16",
          "2023-01-17",
          "2023-01-18",
          "2023-01-19",
          "2023-01-20",
          "2023-01-21",
          "2023-01-22",
          "2023-01-23",
          "2023-01-24",
          "2023-01-25",
          "2023-01-26",
          "2023-01-27",
          "2023-01-29",
          "2023-01-31",
          "2023-02-01",
          "2023-02-02",
          "2023-02-03",
          "2023-02-04",
          "2023-02-05",
          "2023-02-06",
          "2023-02-07",
          "2023-02-08",
          "2023-02-09",
          "2023-02-10",
          "2023-02-11",
          "2023-02-13",
          "2023-02-14",
          "2023-02-15",
          "2023-02-16",
          "2023-02-18",
          "2023-02-19",
          "2023-02-20",
          "2023-02-21",
          "2023-02-22",
          "2023-02-23",
          "2023-02-24",
          "2023-02-25",
          "2023-02-26",
          "2023-02-27",
          "2023-02-28",
          "2023-03-01",
          "2023-03-02",
          "2023-03-03",
          "2023-03-04",
          "2023-03-05",
          "2023-03-06",
          "2023-03-08",
          "2023-03-09",
          "2023-03-10",
          "2023-03-11",
          "2023-03-13",
          "2023-03-14",
          "2023-03-15",
          "2023-03-16",
          "2023-03-17",
          "2023-03-18",
          "2023-03-19",
          "2023-03-20",
          "2023-03-21",
          "2023-03-22",
          "2023-03-23",
          "2023-03-24",
          "2023-03-25",
          "2023-03-26",
          "2023-03-27",
          "2023-03-28",
          "2023-03-29",
          "2023-03-30",
          "2023-03-31",
          "2023-04-02",
          "2023-04-03",
          "2023-04-04",
          "2023-04-05",
          "2023-04-06",
          "2023-04-07",
          "2023-04-08",
          "2023-04-09",
          "2023-04-11",
          "2023-04-12",
          "2023-04-13",
          "2023-04-14",
          "2023-04-15",
          "2023-04-16",
          "2023-04-17",
          "2023-04-18",
          "2023-04-19",
          "2023-04-20",
          "2023-04-21",
          "2023-04-22",
          "2023-04-23",
          "2023-04-24",
          "2023-04-25",
          "2023-04-26",
          "2023-04-27",
          "2023-04-28",
          "2023-04-29",
          "2023-04-30",
          "2023-05-02",
          "2023-05-03",
          "2023-05-04",
          "2023-05-05",
          "2023-05-07",
          "2023-05-08",
          "2023-05-09",
          "2023-05-10",
          "2023-05-11",
          "2023-05-12",
          "2023-05-13",
          "2023-05-14",
          "2023-05-16",
          "2023-05-17",
          "2023-05-18",
          "2023-05-19",
          "2023-05-20",
          "2023-05-21",
          "2023-05-22",
          "2023-05-23",
          "2023-05-24",
          "2023-05-25",
          "2023-05-26",
          "2023-05-27",
          "2023-05-28",
          "2023-05-29",
          "2023-05-30",
          "2023-05-31",
          "2023-06-01",
          "2023-06-02",
          "2023-06-03",
          "2023-06-04",
          "2023-06-05",
          "2023-06-06",
          "2023-06-07",
          "2023-06-08",
          "2023-06-09",
          "2023-06-10",
          "2023-06-11",
          "2023-06-12",
          "2023-06-13",
          "2023-06-14",
          "2023-06-15",
          "2023-06-17",
          "2023-06-18",
          "2023-06-19",
          "2023-06-20",
          "2023-06-21",
          "2023-06-22",
          "2023-06-23",
          "2023-06-24",
          "2023-06-25",
          "2023-06-26",
          "2023-06-27",
          "2023-06-28",
          "2023-06-29",
          "2023-06-30",
          "2023-07-01",
          "2023-07-02",
          "2023-07-03",
          "2023-07-04",
          "2023-07-05",
          "2023-07-06",
          "2023-07-07",
          "2023-07-08",
          "2023-07-09",
          "2023-07-10",
          "2023-07-11",
          "2023-07-12",
          "2023-07-13",
          "2023-07-14",
          "2023-07-15",
          "2023-07-16",
          "2023-07-17",
          "2023-07-18",
          "2023-07-19",
          "2023-07-20",
          "2023-07-21",
          "2023-07-22",
          "2023-07-23",
          "2023-07-24",
          "2023-07-25",
          "2023-07-26",
          "2023-07-27",
          "2023-07-28",
          "2023-07-29",
          "2023-07-30",
          "2023-07-31",
          "2023-08-01",
          "2023-08-02",
          "2023-08-03",
          "2023-08-04",
          "2023-08-05",
          "2023-08-06",
          "2023-08-07",
          "2023-08-08",
          "2023-08-09",
          "2023-08-10",
          "2023-08-11",
          "2023-08-12",
          "2023-08-13",
          "2023-08-14",
          "2023-08-15",
          "2023-08-16",
          "2023-08-17",
          "2023-08-19",
          "2023-08-20",
          "2023-08-21",
          "2023-08-22",
          "2023-08-23",
          "2023-08-24",
          "2023-08-25",
          "2023-08-26",
          "2023-08-27",
          "2023-08-29",
          "2023-08-30",
          "2023-08-31",
          "2023-09-01",
          "2023-09-02",
          "2023-09-03",
          "2023-09-04",
          "2023-09-06",
          "2023-09-07",
          "2023-09-08",
          "2023-09-11",
          "2023-09-12",
          "2023-09-13",
          "2023-09-14",
          "2023-09-15",
          "2023-09-16",
          "2023-09-17",
          "2023-09-18",
          "2023-09-19",
          "2023-09-20",
          "2023-09-21",
          "2023-09-22",
          "2023-09-23",
          "2023-09-24",
          "2023-09-25",
          "2023-09-26",
          "2023-09-27",
          "2023-09-28",
          "2023-09-29",
          "2023-09-30",
          "2023-10-01",
          "2023-10-02",
          "2023-10-04",
          "2023-10-05",
          "2023-10-07",
          "2023-10-08",
          "2023-10-09",
          "2023-10-10",
          "2023-10-11",
          "2023-10-12",
          "2023-10-13",
          "2023-10-14",
          "2023-10-15",
          "2023-10-16",
          "2023-10-18",
          "2023-10-19",
          "2023-10-20",
          "2023-10-21",
          "2023-10-22",
          "2023-10-23",
          "2023-10-24",
          "2023-10-26",
          "2023-10-27",
          "2023-10-28",
          "2023-10-29",
          "2023-10-30",
          "2023-10-31",
          "2023-11-01",
          "2023-11-02",
          "2023-11-03",
          "2023-11-05",
          "2023-11-06",
          "2023-11-07",
          "2023-11-08",
          "2023-11-09",
          "2023-11-10",
          "2023-11-11",
          "2023-11-12",
          "2023-11-13",
          "2023-11-14",
          "2023-11-15",
          "2023-11-16",
          "2023-11-17",
          "2023-11-18",
          "2023-11-19",
          "2023-11-20",
          "2023-11-22",
          "2023-11-23",
          "2023-11-24",
          "2023-11-25",
          "2023-11-26",
          "2023-11-27",
          "2023-11-28",
          "2023-11-29",
          "2023-11-30",
          "2023-12-01",
          "2023-12-02",
          "2023-12-03",
          "2023-12-04",
          "2023-12-05",
          "2023-12-06",
          "2023-12-07",
          "2023-12-08",
          "2023-12-10",
          "2023-12-11",
          "2023-12-12",
          "2023-12-13",
          "2023-12-14",
          "2023-12-15",
          "2023-12-16",
          "2023-12-18",
          "2023-12-19",
          "2023-12-20",
          "2023-12-21",
          "2023-12-22",
          "2023-12-23",
          "2023-12-25",
          "2023-12-26",
          "2023-12-27",
          "2023-12-28",
          "2023-12-29",
          "2023-12-30",
          "2023-12-31",
          "2024-01-01"
         ],
         "xaxis": "x",
         "y": {
          "bdata": "VQAkAFEAZQA5AD0AQQAoAKwAQQBqAOEAOABkAI4AIQCCACwABwCaAAMAZwBVADEAkQA0AHUAbwAvAC0AHwBBABoAZABpAFQAygB0AGYArgARACwAfABoAD0AUAAqAB8ALgBaAIEAHwAFAEEAkQB1AH8ARABZAEQAIwAoACgATAAPAE8AXgAsAH4AYQAvAB4AFQBFAD8AcQANAIIABwCEAD8AXgBRAFsAeAAnAD0AlgBDABsAfAAEAGkAOwA8AGIALgAzAAIAWgAFACIAkQAwAGwAUwBOACUAggBaACwASABsAGwAGQAaADkARQANAJwAdgAkAGsAcwAuAKUAJwAjABYAZABAAGEADQAuAAMAXABsAFQAbAAIAFgAVgC4ACQADwB6AFAAbwBbAFMAGQA9AA8ARwB0AEoAGABRAF8ASgCiACYAUAAVAI0AOgBlAE4AQQA/ACsADwAfABsAGwBbABcAHAAkAEkAIQBqAE0ARwASAF0AYQAUAGwAKQAqAD0AEwAYAAkALwBpAJMABwAVACgAdwCfAIcAJgAxAD4AMwApAF8AqABHAEAAvgCJAF8AXQAfABUAKQAdAB0AggBsABEATQBHACcAiAAhAAkALABRADEAUAB9AC0AMAAFAIIAEABEABEAoQB0AC0AmgAWAGUAiwBUADIASQBHAAcAKgAqAEgANAAfABoALABUABIAIACTACYAPgD7ANQAUAA1ANoAQQCAAL0ASQAbAEYAjwBVAH4AEgCtABcAUAB3AGYAiAAjAEEAMQA1ADYAHAC2AHQAjQApAA0AVgBVADYAGgCEAE8AYQAfADkAHwApAGYAGAA2AD8AJwBJABYASwB7ABYANwAXACEAoQBdACwAhgBMACwAhABQAJ4ATABLAEAAVwBTAKgATQA=",
          "dtype": "i2"
         },
         "yaxis": "y"
        }
       ],
       "layout": {
        "legend": {
         "tracegroupgap": 0
        },
        "margin": {
         "t": 60
        },
        "template": {
         "data": {
          "bar": [
           {
            "error_x": {
             "color": "#2a3f5f"
            },
            "error_y": {
             "color": "#2a3f5f"
            },
            "marker": {
             "line": {
              "color": "#E5ECF6",
              "width": 0.5
             },
             "pattern": {
              "fillmode": "overlay",
              "size": 10,
              "solidity": 0.2
             }
            },
            "type": "bar"
           }
          ],
          "barpolar": [
           {
            "marker": {
             "line": {
              "color": "#E5ECF6",
              "width": 0.5
             },
             "pattern": {
              "fillmode": "overlay",
              "size": 10,
              "solidity": 0.2
             }
            },
            "type": "barpolar"
           }
          ],
          "carpet": [
           {
            "aaxis": {
             "endlinecolor": "#2a3f5f",
             "gridcolor": "white",
             "linecolor": "white",
             "minorgridcolor": "white",
             "startlinecolor": "#2a3f5f"
            },
            "baxis": {
             "endlinecolor": "#2a3f5f",
             "gridcolor": "white",
             "linecolor": "white",
             "minorgridcolor": "white",
             "startlinecolor": "#2a3f5f"
            },
            "type": "carpet"
           }
          ],
          "choropleth": [
           {
            "colorbar": {
             "outlinewidth": 0,
             "ticks": ""
            },
            "type": "choropleth"
           }
          ],
          "contour": [
           {
            "colorbar": {
             "outlinewidth": 0,
             "ticks": ""
            },
            "colorscale": [
             [
              0,
              "#0d0887"
             ],
             [
              0.1111111111111111,
              "#46039f"
             ],
             [
              0.2222222222222222,
              "#7201a8"
             ],
             [
              0.3333333333333333,
              "#9c179e"
             ],
             [
              0.4444444444444444,
              "#bd3786"
             ],
             [
              0.5555555555555556,
              "#d8576b"
             ],
             [
              0.6666666666666666,
              "#ed7953"
             ],
             [
              0.7777777777777778,
              "#fb9f3a"
             ],
             [
              0.8888888888888888,
              "#fdca26"
             ],
             [
              1,
              "#f0f921"
             ]
            ],
            "type": "contour"
           }
          ],
          "contourcarpet": [
           {
            "colorbar": {
             "outlinewidth": 0,
             "ticks": ""
            },
            "type": "contourcarpet"
           }
          ],
          "heatmap": [
           {
            "colorbar": {
             "outlinewidth": 0,
             "ticks": ""
            },
            "colorscale": [
             [
              0,
              "#0d0887"
             ],
             [
              0.1111111111111111,
              "#46039f"
             ],
             [
              0.2222222222222222,
              "#7201a8"
             ],
             [
              0.3333333333333333,
              "#9c179e"
             ],
             [
              0.4444444444444444,
              "#bd3786"
             ],
             [
              0.5555555555555556,
              "#d8576b"
             ],
             [
              0.6666666666666666,
              "#ed7953"
             ],
             [
              0.7777777777777778,
              "#fb9f3a"
             ],
             [
              0.8888888888888888,
              "#fdca26"
             ],
             [
              1,
              "#f0f921"
             ]
            ],
            "type": "heatmap"
           }
          ],
          "histogram": [
           {
            "marker": {
             "pattern": {
              "fillmode": "overlay",
              "size": 10,
              "solidity": 0.2
             }
            },
            "type": "histogram"
           }
          ],
          "histogram2d": [
           {
            "colorbar": {
             "outlinewidth": 0,
             "ticks": ""
            },
            "colorscale": [
             [
              0,
              "#0d0887"
             ],
             [
              0.1111111111111111,
              "#46039f"
             ],
             [
              0.2222222222222222,
              "#7201a8"
             ],
             [
              0.3333333333333333,
              "#9c179e"
             ],
             [
              0.4444444444444444,
              "#bd3786"
             ],
             [
              0.5555555555555556,
              "#d8576b"
             ],
             [
              0.6666666666666666,
              "#ed7953"
             ],
             [
              0.7777777777777778,
              "#fb9f3a"
             ],
             [
              0.8888888888888888,
              "#fdca26"
             ],
             [
              1,
              "#f0f921"
             ]
            ],
            "type": "histogram2d"
           }
          ],
          "histogram2dcontour": [
           {
            "colorbar": {
             "outlinewidth": 0,
             "ticks": ""
            },
            "colorscale": [
             [
              0,
              "#0d0887"
             ],
             [
              0.1111111111111111,
              "#46039f"
             ],
             [
              0.2222222222222222,
              "#7201a8"
             ],
             [
              0.3333333333333333,
              "#9c179e"
             ],
             [
              0.4444444444444444,
              "#bd3786"
             ],
             [
              0.5555555555555556,
              "#d8576b"
             ],
             [
              0.6666666666666666,
              "#ed7953"
             ],
             [
              0.7777777777777778,
              "#fb9f3a"
             ],
             [
              0.8888888888888888,
              "#fdca26"
             ],
             [
              1,
              "#f0f921"
             ]
            ],
            "type": "histogram2dcontour"
           }
          ],
          "mesh3d": [
           {
            "colorbar": {
             "outlinewidth": 0,
             "ticks": ""
            },
            "type": "mesh3d"
           }
          ],
          "parcoords": [
           {
            "line": {
             "colorbar": {
              "outlinewidth": 0,
              "ticks": ""
             }
            },
            "type": "parcoords"
           }
          ],
          "pie": [
           {
            "automargin": true,
            "type": "pie"
           }
          ],
          "scatter": [
           {
            "fillpattern": {
             "fillmode": "overlay",
             "size": 10,
             "solidity": 0.2
            },
            "type": "scatter"
           }
          ],
          "scatter3d": [
           {
            "line": {
             "colorbar": {
              "outlinewidth": 0,
              "ticks": ""
             }
            },
            "marker": {
             "colorbar": {
              "outlinewidth": 0,
              "ticks": ""
             }
            },
            "type": "scatter3d"
           }
          ],
          "scattercarpet": [
           {
            "marker": {
             "colorbar": {
              "outlinewidth": 0,
              "ticks": ""
             }
            },
            "type": "scattercarpet"
           }
          ],
          "scattergeo": [
           {
            "marker": {
             "colorbar": {
              "outlinewidth": 0,
              "ticks": ""
             }
            },
            "type": "scattergeo"
           }
          ],
          "scattergl": [
           {
            "marker": {
             "colorbar": {
              "outlinewidth": 0,
              "ticks": ""
             }
            },
            "type": "scattergl"
           }
          ],
          "scattermap": [
           {
            "marker": {
             "colorbar": {
              "outlinewidth": 0,
              "ticks": ""
             }
            },
            "type": "scattermap"
           }
          ],
          "scattermapbox": [
           {
            "marker": {
             "colorbar": {
              "outlinewidth": 0,
              "ticks": ""
             }
            },
            "type": "scattermapbox"
           }
          ],
          "scatterpolar": [
           {
            "marker": {
             "colorbar": {
              "outlinewidth": 0,
              "ticks": ""
             }
            },
            "type": "scatterpolar"
           }
          ],
          "scatterpolargl": [
           {
            "marker": {
             "colorbar": {
              "outlinewidth": 0,
              "ticks": ""
             }
            },
            "type": "scatterpolargl"
           }
          ],
          "scatterternary": [
           {
            "marker": {
             "colorbar": {
              "outlinewidth": 0,
              "ticks": ""
             }
            },
            "type": "scatterternary"
           }
          ],
          "surface": [
           {
            "colorbar": {
             "outlinewidth": 0,
             "ticks": ""
            },
            "colorscale": [
             [
              0,
              "#0d0887"
             ],
             [
              0.1111111111111111,
              "#46039f"
             ],
             [
              0.2222222222222222,
              "#7201a8"
             ],
             [
              0.3333333333333333,
              "#9c179e"
             ],
             [
              0.4444444444444444,
              "#bd3786"
             ],
             [
              0.5555555555555556,
              "#d8576b"
             ],
             [
              0.6666666666666666,
              "#ed7953"
             ],
             [
              0.7777777777777778,
              "#fb9f3a"
             ],
             [
              0.8888888888888888,
              "#fdca26"
             ],
             [
              1,
              "#f0f921"
             ]
            ],
            "type": "surface"
           }
          ],
          "table": [
           {
            "cells": {
             "fill": {
              "color": "#EBF0F8"
             },
             "line": {
              "color": "white"
             }
            },
            "header": {
             "fill": {
              "color": "#C8D4E3"
             },
             "line": {
              "color": "white"
             }
            },
            "type": "table"
           }
          ]
         },
         "layout": {
          "annotationdefaults": {
           "arrowcolor": "#2a3f5f",
           "arrowhead": 0,
           "arrowwidth": 1
          },
          "autotypenumbers": "strict",
          "coloraxis": {
           "colorbar": {
            "outlinewidth": 0,
            "ticks": ""
           }
          },
          "colorscale": {
           "diverging": [
            [
             0,
             "#8e0152"
            ],
            [
             0.1,
             "#c51b7d"
            ],
            [
             0.2,
             "#de77ae"
            ],
            [
             0.3,
             "#f1b6da"
            ],
            [
             0.4,
             "#fde0ef"
            ],
            [
             0.5,
             "#f7f7f7"
            ],
            [
             0.6,
             "#e6f5d0"
            ],
            [
             0.7,
             "#b8e186"
            ],
            [
             0.8,
             "#7fbc41"
            ],
            [
             0.9,
             "#4d9221"
            ],
            [
             1,
             "#276419"
            ]
           ],
           "sequential": [
            [
             0,
             "#0d0887"
            ],
            [
             0.1111111111111111,
             "#46039f"
            ],
            [
             0.2222222222222222,
             "#7201a8"
            ],
            [
             0.3333333333333333,
             "#9c179e"
            ],
            [
             0.4444444444444444,
             "#bd3786"
            ],
            [
             0.5555555555555556,
             "#d8576b"
            ],
            [
             0.6666666666666666,
             "#ed7953"
            ],
            [
             0.7777777777777778,
             "#fb9f3a"
            ],
            [
             0.8888888888888888,
             "#fdca26"
            ],
            [
             1,
             "#f0f921"
            ]
           ],
           "sequentialminus": [
            [
             0,
             "#0d0887"
            ],
            [
             0.1111111111111111,
             "#46039f"
            ],
            [
             0.2222222222222222,
             "#7201a8"
            ],
            [
             0.3333333333333333,
             "#9c179e"
            ],
            [
             0.4444444444444444,
             "#bd3786"
            ],
            [
             0.5555555555555556,
             "#d8576b"
            ],
            [
             0.6666666666666666,
             "#ed7953"
            ],
            [
             0.7777777777777778,
             "#fb9f3a"
            ],
            [
             0.8888888888888888,
             "#fdca26"
            ],
            [
             1,
             "#f0f921"
            ]
           ]
          },
          "colorway": [
           "#636efa",
           "#EF553B",
           "#00cc96",
           "#ab63fa",
           "#FFA15A",
           "#19d3f3",
           "#FF6692",
           "#B6E880",
           "#FF97FF",
           "#FECB52"
          ],
          "font": {
           "color": "#2a3f5f"
          },
          "geo": {
           "bgcolor": "white",
           "lakecolor": "white",
           "landcolor": "#E5ECF6",
           "showlakes": true,
           "showland": true,
           "subunitcolor": "white"
          },
          "hoverlabel": {
           "align": "left"
          },
          "hovermode": "closest",
          "mapbox": {
           "style": "light"
          },
          "paper_bgcolor": "white",
          "plot_bgcolor": "#E5ECF6",
          "polar": {
           "angularaxis": {
            "gridcolor": "white",
            "linecolor": "white",
            "ticks": ""
           },
           "bgcolor": "#E5ECF6",
           "radialaxis": {
            "gridcolor": "white",
            "linecolor": "white",
            "ticks": ""
           }
          },
          "scene": {
           "xaxis": {
            "backgroundcolor": "#E5ECF6",
            "gridcolor": "white",
            "gridwidth": 2,
            "linecolor": "white",
            "showbackground": true,
            "ticks": "",
            "zerolinecolor": "white"
           },
           "yaxis": {
            "backgroundcolor": "#E5ECF6",
            "gridcolor": "white",
            "gridwidth": 2,
            "linecolor": "white",
            "showbackground": true,
            "ticks": "",
            "zerolinecolor": "white"
           },
           "zaxis": {
            "backgroundcolor": "#E5ECF6",
            "gridcolor": "white",
            "gridwidth": 2,
            "linecolor": "white",
            "showbackground": true,
            "ticks": "",
            "zerolinecolor": "white"
           }
          },
          "shapedefaults": {
           "line": {
            "color": "#2a3f5f"
           }
          },
          "ternary": {
           "aaxis": {
            "gridcolor": "white",
            "linecolor": "white",
            "ticks": ""
           },
           "baxis": {
            "gridcolor": "white",
            "linecolor": "white",
            "ticks": ""
           },
           "bgcolor": "#E5ECF6",
           "caxis": {
            "gridcolor": "white",
            "linecolor": "white",
            "ticks": ""
           }
          },
          "title": {
           "x": 0.05
          },
          "xaxis": {
           "automargin": true,
           "gridcolor": "white",
           "linecolor": "white",
           "ticks": "",
           "title": {
            "standoff": 15
           },
           "zerolinecolor": "white",
           "zerolinewidth": 2
          },
          "yaxis": {
           "automargin": true,
           "gridcolor": "white",
           "linecolor": "white",
           "ticks": "",
           "title": {
            "standoff": 15
           },
           "zerolinecolor": "white",
           "zerolinewidth": 2
          }
         }
        },
        "xaxis": {
         "anchor": "y",
         "domain": [
          0,
          1
         ],
         "title": {
          "text": "Sale_Date"
         }
        },
        "yaxis": {
         "anchor": "x",
         "domain": [
          0,
          1
         ],
         "title": {
          "text": "Quantity_Sold"
         }
        }
       }
      }
     },
     "metadata": {},
     "output_type": "display_data"
    }
   ],
   "source": [
    "px.line(data_grouped, x='Sale_Date', y='Quantity_Sold')"
   ]
  },
  {
   "cell_type": "markdown",
   "metadata": {},
   "source": [
    "## Distribuições"
   ]
  },
  {
   "cell_type": "markdown",
   "metadata": {},
   "source": [
    "### Perguntas"
   ]
  },
  {
   "cell_type": "markdown",
   "metadata": {},
   "source": [
    "**Binomial**: De ``x`` vendas, qual a probabilidade de ``y`` vendas serem para novos clientes?\n",
    "\n",
    "\n",
    "**Poisson**: Qual a probabilidade de vender exatamente 30 unidades em um dia?\n",
    "\n",
    "\n",
    "**Normal**: Qual a chance de uma venda ultrapassar 5.000?"
   ]
  },
  {
   "cell_type": "code",
   "execution_count": 32,
   "metadata": {},
   "outputs": [],
   "source": [
    "from scipy.stats import poisson, binom, norm"
   ]
  },
  {
   "cell_type": "markdown",
   "metadata": {},
   "source": [
    "#### **Binomial** - Probabilidade de x vendas para novos clientes"
   ]
  },
  {
   "cell_type": "code",
   "execution_count": 20,
   "metadata": {},
   "outputs": [
    {
     "data": {
      "text/plain": [
       "1000"
      ]
     },
     "execution_count": 20,
     "metadata": {},
     "output_type": "execute_result"
    }
   ],
   "source": [
    "total_vendas = dados.shape[0]\n",
    "total_vendas"
   ]
  },
  {
   "cell_type": "code",
   "execution_count": 21,
   "metadata": {},
   "outputs": [
    {
     "data": {
      "text/plain": [
       "Customer_Type\n",
       "New          0.504\n",
       "Returning    0.496\n",
       "Name: proportion, dtype: float64"
      ]
     },
     "execution_count": 21,
     "metadata": {},
     "output_type": "execute_result"
    }
   ],
   "source": [
    "dados['Customer_Type'].value_counts(normalize=True)"
   ]
  },
  {
   "cell_type": "code",
   "execution_count": 29,
   "metadata": {},
   "outputs": [
    {
     "data": {
      "text/plain": [
       "np.float64(0.024430571120824758)"
      ]
     },
     "execution_count": 29,
     "metadata": {},
     "output_type": "execute_result"
    }
   ],
   "source": [
    "n = 1000  # Total de vendas\n",
    "p = 0.504  # Probabilidade de um novo cliente\n",
    "x = 500  # Número de vendas desejadas (exemplo)\n",
    "\n",
    "probabilidade_binomial = binom.pmf(x, n, p)\n",
    "probabilidade_binomial"
   ]
  },
  {
   "cell_type": "markdown",
   "metadata": {},
   "source": [
    "#### **Poisson** - Probabilidade de vender exatamente 30 unidades em um dia"
   ]
  },
  {
   "cell_type": "code",
   "execution_count": 26,
   "metadata": {},
   "outputs": [
    {
     "name": "stdout",
     "output_type": "stream",
     "text": [
      "Total de vendas: 25355\n",
      "Total de dias: 340\n"
     ]
    }
   ],
   "source": [
    "total_vendas = dados['Quantity_Sold'].sum()  \n",
    "\n",
    "total_dias = dados['Sale_Date'].nunique()  \n",
    "\n",
    "print(f'Total de vendas: {total_vendas}')\n",
    "print(f'Total de dias: {total_dias}')"
   ]
  },
  {
   "cell_type": "markdown",
   "metadata": {},
   "source": [
    "Lambda = Taxa média de vendas por dia"
   ]
  },
  {
   "cell_type": "code",
   "execution_count": 27,
   "metadata": {},
   "outputs": [
    {
     "name": "stdout",
     "output_type": "stream",
     "text": [
      "74.57352941176471\n"
     ]
    }
   ],
   "source": [
    "lambda_ = total_vendas / total_dias  \n",
    "print(lambda_)"
   ]
  },
  {
   "cell_type": "code",
   "execution_count": 28,
   "metadata": {},
   "outputs": [
    {
     "data": {
      "text/plain": [
       "np.float64(2.328137041869198e-09)"
      ]
     },
     "execution_count": 28,
     "metadata": {},
     "output_type": "execute_result"
    }
   ],
   "source": [
    "k = 30\n",
    "\n",
    "probabilidade_30 = poisson.pmf(k, lambda_)\n",
    "probabilidade_30"
   ]
  },
  {
   "cell_type": "markdown",
   "metadata": {},
   "source": [
    "**Normal** - Probabilidade de uma venda ultrapassar 5.000 `Sales_Amount` (Faturamento da compra)"
   ]
  },
  {
   "cell_type": "code",
   "execution_count": null,
   "metadata": {},
   "outputs": [],
   "source": [
    "media = dados[\"Sales_Amount\"].mean()"
   ]
  },
  {
   "cell_type": "code",
   "execution_count": 36,
   "metadata": {},
   "outputs": [],
   "source": [
    "desvio_padrao = dados[\"Sales_Amount\"].std()"
   ]
  },
  {
   "cell_type": "code",
   "execution_count": 37,
   "metadata": {},
   "outputs": [
    {
     "data": {
      "text/plain": [
       "np.float64(0.04027899801495405)"
      ]
     },
     "execution_count": 37,
     "metadata": {},
     "output_type": "execute_result"
    }
   ],
   "source": [
    "x_limite = 5000 \n",
    "probabilidade = 1 - norm.cdf(x_limite, media, desvio_padrao)\n",
    "probabilidade"
   ]
  },
  {
   "cell_type": "code",
   "execution_count": null,
   "metadata": {},
   "outputs": [],
   "source": []
  }
 ],
 "metadata": {
  "kernelspec": {
   "display_name": ".venv",
   "language": "python",
   "name": "python3"
  },
  "language_info": {
   "codemirror_mode": {
    "name": "ipython",
    "version": 3
   },
   "file_extension": ".py",
   "mimetype": "text/x-python",
   "name": "python",
   "nbconvert_exporter": "python",
   "pygments_lexer": "ipython3",
   "version": "3.12.7"
  }
 },
 "nbformat": 4,
 "nbformat_minor": 2
}
